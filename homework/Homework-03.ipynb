{
 "cells": [
  {
   "cell_type": "markdown",
   "metadata": {},
   "source": [
    "River Kelly"
   ]
  },
  {
   "cell_type": "code",
   "execution_count": null,
   "metadata": {},
   "outputs": [],
   "source": [
    "import matplotlib.pyplot as plt\n",
    "import networkx as nx"
   ]
  },
  {
   "cell_type": "code",
   "execution_count": null,
   "metadata": {},
   "outputs": [],
   "source": [
    "G = nx.Graph()\n",
    "# 1\n",
    "G.add_edge(1, 2)\n",
    "G.add_edge(1, 3)\n",
    "# 2\n",
    "G.add_edge(2, 3)\n",
    "# 3\n",
    "G.add_edge(3, 4)\n",
    "G.add_edge(3, 5)\n",
    "G.add_edge(3, 12)\n",
    "# 4\n",
    "G.add_edge(4, 5)\n",
    "# 5\n",
    "G.add_edge(5, 11)\n",
    "# 6\n",
    "G.add_edge(6, 7)\n",
    "G.add_edge(6, 12)\n",
    "# 7\n",
    "G.add_edge(7, 12)\n",
    "# 8\n",
    "G.add_edge(8, 12)\n",
    "# 9\n",
    "G.add_edge(9, 12)\n",
    "# 10\n",
    "G.add_edge(10, 12)\n",
    "# 11\n",
    "G.add_edge(11, 12)"
   ]
  },
  {
   "cell_type": "code",
   "execution_count": null,
   "metadata": {},
   "outputs": [],
   "source": [
    "# explicitly set positions\n",
    "pos = {\n",
    "    1: (0, 0),\n",
    "    2: (2, 0),\n",
    "    3: (1, -1),\n",
    "    4: (0, -2),\n",
    "    5: (2, -2),\n",
    "    6: (4, 0),\n",
    "    7: (6, 0),\n",
    "    8: (7, -0.5),\n",
    "    9: (7, -1.5),\n",
    "    10: (6, -2),\n",
    "    11: (4, -2),\n",
    "    12: (5, -1),\n",
    "}"
   ]
  },
  {
   "cell_type": "code",
   "execution_count": null,
   "metadata": {},
   "outputs": [],
   "source": [
    "options = {\n",
    "    \"font_size\": 15,\n",
    "    \"node_size\": 1000,\n",
    "    \"node_color\": \"white\",\n",
    "    \"edgecolors\": \"black\",\n",
    "    \"linewidths\": 2,\n",
    "    \"width\": 2,\n",
    "}\n",
    "nx.draw_networkx(G, pos, **options)\n",
    "\n",
    "# Set margins for the axes so that nodes aren't clipped\n",
    "ax = plt.gca()\n",
    "ax.margins(0.20)\n",
    "plt.axis(\"off\")\n",
    "plt.show()"
   ]
  },
  {
   "cell_type": "code",
   "execution_count": null,
   "metadata": {},
   "outputs": [],
   "source": [
    "nx.closeness_centrality(G)"
   ]
  },
  {
   "cell_type": "code",
   "execution_count": null,
   "metadata": {},
   "outputs": [],
   "source": [
    "nx.clustering(G)"
   ]
  },
  {
   "cell_type": "code",
   "execution_count": null,
   "metadata": {},
   "outputs": [],
   "source": [
    "sum(nx.clustering(G).values()) / G.number_of_nodes()"
   ]
  },
  {
   "cell_type": "code",
   "execution_count": null,
   "metadata": {},
   "outputs": [],
   "source": [
    "nx.betweenness_centrality(G, normalized=False)"
   ]
  },
  {
   "cell_type": "code",
   "execution_count": null,
   "metadata": {},
   "outputs": [],
   "source": [
    "# prestige centrality\n",
    "nx.eigenvector_centrality(G)"
   ]
  },
  {
   "cell_type": "code",
   "execution_count": null,
   "metadata": {},
   "outputs": [],
   "source": [
    "deg_view = nx.degree(G)\n",
    "deg_vals = dict(deg_view).values()\n",
    "\n",
    "plt.hist(deg_vals)\n",
    "plt.xlabel('degree')\n",
    "plt.ylabel('number of nodes with degree')"
   ]
  }
 ],
 "metadata": {
  "interpreter": {
   "hash": "00684e69adb826331b650ae4febdd10eef3cfe83175fe79e1892054a99ff83e7"
  },
  "kernelspec": {
   "display_name": "Python 3.8.12 ('csci347')",
   "language": "python",
   "name": "python3"
  },
  "language_info": {
   "codemirror_mode": {
    "name": "ipython",
    "version": 3
   },
   "file_extension": ".py",
   "mimetype": "text/x-python",
   "name": "python",
   "nbconvert_exporter": "python",
   "pygments_lexer": "ipython3",
   "version": "3.8.12"
  },
  "orig_nbformat": 4
 },
 "nbformat": 4,
 "nbformat_minor": 2
}
