{
 "cells": [
  {
   "cell_type": "markdown",
   "metadata": {},
   "source": [
    "River Kelly\n",
    "CSCI-347 \n",
    "Homework 04"
   ]
  },
  {
   "cell_type": "markdown",
   "metadata": {},
   "source": [
    "Show your work. Include any code snippets you used to generate an answer, using comments in the code to clearly indicate which problem corresponds to which code"
   ]
  },
  {
   "cell_type": "markdown",
   "metadata": {},
   "source": [
    "# Code Setup"
   ]
  },
  {
   "cell_type": "code",
   "execution_count": 16,
   "metadata": {},
   "outputs": [],
   "source": [
    "# import libraries\n",
    "import numpy as np\n",
    "import matplotlib.pyplot as plt"
   ]
  },
  {
   "cell_type": "markdown",
   "metadata": {},
   "source": [
    "# Part 1 - (2 points) Matrix Vector"
   ]
  },
  {
   "cell_type": "markdown",
   "metadata": {},
   "source": [
    "Consider matrix $A$ and vector $v$. Compute the matrix-vector product $Av$."
   ]
  },
  {
   "cell_type": "markdown",
   "metadata": {},
   "source": [
    "$$\n",
    "  A = \\begin{pmatrix} 2 & 1 \\\\ 1 & 3 \\end{pmatrix},\n",
    "  v = \\begin{pmatrix}-1 & 1\\end{pmatrix}\n",
    "$$"
   ]
  },
  {
   "cell_type": "code",
   "execution_count": 17,
   "metadata": {},
   "outputs": [
    {
     "data": {
      "text/plain": [
       "array([-1,  2])"
      ]
     },
     "execution_count": 17,
     "metadata": {},
     "output_type": "execute_result"
    }
   ],
   "source": [
    "# build matrix 'A'\n",
    "A = np.ndarray(shape=(2,2), dtype=int)\n",
    "A[0] = np.array([2, 1])\n",
    "A[1] = np.array([1, 3])\n",
    "# build vector 'v'\n",
    "V = np.array([-1, 1], dtype=int)\n",
    "dot_product = np.array([0] * A.shape[1])\n",
    "# loop through row is matrix A\n",
    "for i in range(A.shape[1]):\n",
    "    # get the current row\n",
    "    a_row = A[i, :]\n",
    "    # loop over the values in the current row\n",
    "    # and compute the dot product \n",
    "    for index, row_value in enumerate(a_row):\n",
    "        # compute the dot product for i in row\n",
    "        dot_product[i] += row_value * V[index]\n",
    "# show the result dot pot_product\n",
    "dot_product"
   ]
  },
  {
   "cell_type": "markdown",
   "metadata": {},
   "source": [
    "# Part 2"
   ]
  },
  {
   "cell_type": "markdown",
   "metadata": {},
   "source": [
    "Consider matrix $A$ and data set $D$:"
   ]
  },
  {
   "cell_type": "markdown",
   "metadata": {},
   "source": [
    "$$\n",
    "    A = \\begin{pmatrix}\n",
    "        \\frac{\\sqrt{3}}{2} & -\\frac{1}{2} \\\\ \n",
    "        \\frac{1}{2} & \\frac{\\sqrt{3}}{2}\n",
    "    \\end{pmatrix},\n",
    "    D = \\begin{pmatrix}\n",
    "        1  &  1.5 \\\\\n",
    "        1  &  2 \\\\\n",
    "        3  &  4 \\\\\n",
    "        -1 &  -1 \\\\\n",
    "        -1 &  1 \\\\\n",
    "        1  & -2 \\\\\n",
    "        2  &  2 \\\\\n",
    "        2  & 3\n",
    "    \\end{pmatrix}\n",
    "$$"
   ]
  },
  {
   "cell_type": "markdown",
   "metadata": {},
   "source": [
    "## Helper Code"
   ]
  },
  {
   "cell_type": "code",
   "execution_count": 18,
   "metadata": {},
   "outputs": [
    {
     "data": {
      "text/plain": [
       "matrix([[ 0.8660254, -0.5      ],\n",
       "        [ 0.5      ,  0.8660254]])"
      ]
     },
     "execution_count": 18,
     "metadata": {},
     "output_type": "execute_result"
    }
   ],
   "source": [
    "A = np.matrix([\n",
    "    [((3**(1/2))/2), -(1/2)],\n",
    "    [(1/2), ((3**(1/2))/2)]\n",
    "])\n",
    "# show matrix 'A'\n",
    "A"
   ]
  },
  {
   "cell_type": "code",
   "execution_count": 19,
   "metadata": {},
   "outputs": [
    {
     "data": {
      "text/plain": [
       "array([[ 1. ,  1.5],\n",
       "       [ 1. ,  2. ],\n",
       "       [ 3. ,  4. ],\n",
       "       [-1. , -1. ],\n",
       "       [-1. ,  1. ],\n",
       "       [ 1. , -2. ],\n",
       "       [ 2. ,  2. ],\n",
       "       [ 2. ,  3. ]])"
      ]
     },
     "execution_count": 19,
     "metadata": {},
     "output_type": "execute_result"
    }
   ],
   "source": [
    "# build data set 'D'\n",
    "D = np.ndarray(shape=(8, 2))\n",
    "D[0] = [1, 1.5]\n",
    "D[1] = [1, 2]\n",
    "D[2] = [3, 4]\n",
    "D[3] = [-1,-1]\n",
    "D[4] = [-1, 1]\n",
    "D[5] = [1, -2]\n",
    "D[6] = [2, 2]\n",
    "D[7] = [2, 3]\n",
    "# show data set 'D'\n",
    "D"
   ]
  },
  {
   "cell_type": "markdown",
   "metadata": {},
   "source": [
    "## Scatter Plot"
   ]
  },
  {
   "cell_type": "markdown",
   "metadata": {},
   "source": [
    "Let $X1$ and $X2$ be the first and second attributes of the data, respectively. Use Python to create a scatter plot of the data, where the $x$-axis is $X1$ and the $y$-axis is $X2$."
   ]
  },
  {
   "cell_type": "code",
   "execution_count": 20,
   "metadata": {},
   "outputs": [
    {
     "data": {
      "image/png": "[encoded data removed]",
      "text/plain": [
       "<Figure size 432x288 with 1 Axes>"
      ]
     },
     "metadata": {
      "needs_background": "light"
     },
     "output_type": "display_data"
    }
   ],
   "source": [
    "X1 = D[:,0]\n",
    "X2 = D[:,1]\n",
    "plt.scatter(x=X1, y=X2, color='blue', marker='o', s=100, edgecolors='black')\n",
    "plt.xlabel('X1')\n",
    "plt.ylabel('X2')\n",
    "plt.title('Scatter Plot of X1 and X2')\n",
    "plt.show()"
   ]
  },
  {
   "cell_type": "markdown",
   "metadata": {},
   "source": [
    "## Linear Transformation"
   ]
  },
  {
   "cell_type": "markdown",
   "metadata": {},
   "source": [
    "Treating each row as a 2-dimensional vector, apply the linear transformation $A$ to each row. In other words, let $x_i$ be the $i$-th row of $D$. For each $x_i$, find the matrix-vector product $Ax_i$. \n",
    "\n",
    "For example, \n",
    "$$\n",
    "x2 =\\begin{pmatrix}\n",
    "  1 \\\\ \n",
    "  2 \n",
    "\\end{pmatrix}\n",
    "$$"
   ]
  },
  {
   "cell_type": "code",
   "execution_count": 21,
   "metadata": {},
   "outputs": [],
   "source": [
    "linearTransformationData = np.ndarray(shape=D.shape)\n",
    "for row_index, row in enumerate(D):\n",
    "    dot = np.dot(A, row)\n",
    "    linearTransformationData[row_index] = [dot[0,0], dot[0,1]]"
   ]
  },
  {
   "cell_type": "code",
   "execution_count": 22,
   "metadata": {},
   "outputs": [
    {
     "name": "stdout",
     "output_type": "stream",
     "text": [
      "x1:  [0.1160254  1.79903811]\n",
      "x2:  [-0.1339746   2.23205081]\n",
      "x3:  [0.59807621 4.96410162]\n",
      "x4:  [-0.3660254 -1.3660254]\n",
      "x5:  [-1.3660254  0.3660254]\n",
      "x6:  [ 1.8660254  -1.23205081]\n",
      "x7:  [0.73205081 2.73205081]\n",
      "x8:  [0.23205081 3.59807621]\n"
     ]
    }
   ],
   "source": [
    "# print out the transformed data\n",
    "for index, row in enumerate(linearTransformationData):\n",
    "    print(f\"x{index+1}: \", row)"
   ]
  },
  {
   "cell_type": "markdown",
   "metadata": {},
   "source": [
    "## Transformed Data"
   ]
  },
  {
   "cell_type": "markdown",
   "metadata": {},
   "source": [
    "UsePythontocreateaplotshowingboththeoriginaldataandthetransformed data, with the $x$-axis still corresponding to $X1$ and the $y$-axis corresponding to $X2$. Use different colors and markers to differentiate between the original and transformed data. That is, each transformed data point in the plot should be one matrix-vector product $Ax_i$, which is a $2$-dimensional vector. Each original point in the plot should have the same coordinates as it did in part 2.1."
   ]
  },
  {
   "cell_type": "code",
   "execution_count": 23,
   "metadata": {},
   "outputs": [
    {
     "data": {
      "image/png": "[encoded data removed]",
      "text/plain": [
       "<Figure size 432x288 with 1 Axes>"
      ]
     },
     "metadata": {
      "needs_background": "light"
     },
     "output_type": "display_data"
    }
   ],
   "source": [
    "X1_transformend = linearTransformationData[:,0]\n",
    "X2_transformend = linearTransformationData[:,1]\n",
    "plt.scatter(x=X1, y=X2, color='blue', marker='o', s=100, edgecolors='black')\n",
    "plt.scatter(x=X1_transformend, y=X2_transformend, color='red', marker='s', s=100, edgecolors='black')\n",
    "plt.xlabel('X1')\n",
    "plt.ylabel('X2')\n",
    "plt.title('Scatter Plot of original v.s. transformed X1 & X2')\n",
    "plt.legend(['Original', 'Transformed'])\n",
    "plt.show()"
   ]
  },
  {
   "cell_type": "markdown",
   "metadata": {},
   "source": [
    "## Multi-Dimensional Mean"
   ]
  },
  {
   "cell_type": "markdown",
   "metadata": {},
   "source": [
    "Write down the multi-dimensional mean of the data. (Remember that this should be a 2-dimensional vector)"
   ]
  },
  {
   "cell_type": "code",
   "execution_count": 24,
   "metadata": {},
   "outputs": [
    {
     "data": {
      "text/plain": [
       "[1.0, 1.3125]"
      ]
     },
     "execution_count": 24,
     "metadata": {},
     "output_type": "execute_result"
    }
   ],
   "source": [
    "def multiDimensionalMean(m):\n",
    "    # output array (i.e. mean array)\n",
    "    mean = [0] * m.shape[1]\n",
    "    # iterate over columns\n",
    "    for col_index in range(m.shape[1]):\n",
    "        # get column array\n",
    "        col_arr = m[:,col_index]\n",
    "        # column mean\n",
    "        col_mean = col_arr.mean()\n",
    "        # set column mean to mean (output) array\n",
    "        mean[col_index] = col_mean\n",
    "    # return multi-dimensional mean\n",
    "    return mean\n",
    "multiDimMean = multiDimensionalMean(D)\n",
    "multiDimMean"
   ]
  },
  {
   "cell_type": "markdown",
   "metadata": {},
   "source": [
    "## Mean-Centered Data"
   ]
  },
  {
   "cell_type": "markdown",
   "metadata": {},
   "source": [
    "Mean-center the data. Write down the mean-centered data matrix."
   ]
  },
  {
   "cell_type": "code",
   "execution_count": 25,
   "metadata": {},
   "outputs": [
    {
     "data": {
      "text/plain": [
       "array([[ 0.    ,  0.1875],\n",
       "       [ 0.    ,  0.6875],\n",
       "       [ 2.    ,  2.6875],\n",
       "       [-2.    , -2.3125],\n",
       "       [-2.    , -0.3125],\n",
       "       [ 0.    , -3.3125],\n",
       "       [ 1.    ,  0.6875],\n",
       "       [ 1.    ,  1.6875]])"
      ]
     },
     "execution_count": 25,
     "metadata": {},
     "output_type": "execute_result"
    }
   ],
   "source": [
    "meanCenteredData = np.ndarray(shape=D.shape)\n",
    "for row_index, row in enumerate(D):\n",
    "    for row_col_index, value in enumerate(row):\n",
    "        meanCenteredData[row_index][row_col_index] = value - multiDimMean[row_col_index]\n",
    "meanCenteredData"
   ]
  },
  {
   "cell_type": "markdown",
   "metadata": {},
   "source": [
    "## Plot of Original v.s. Mean-Centered Data"
   ]
  },
  {
   "cell_type": "markdown",
   "metadata": {},
   "source": [
    "Use Python to create a scatter plot showing both the original data and the mean-centered data, where the $x$-axis is $X1$ and the $y$-axis is $X2$. Use different colors and markers to differentiate between the original and mean-centered data."
   ]
  },
  {
   "cell_type": "code",
   "execution_count": 26,
   "metadata": {},
   "outputs": [
    {
     "data": {
      "image/png": "[encoded data removed]",
      "text/plain": [
       "<Figure size 432x288 with 1 Axes>"
      ]
     },
     "metadata": {
      "needs_background": "light"
     },
     "output_type": "display_data"
    }
   ],
   "source": [
    "X1_mean_centered = meanCenteredData[:,0]\n",
    "X2_mean_centered = meanCenteredData[:,1]\n",
    "plt.scatter(x=X1, y=X2, color='blue', marker='o', s=100, edgecolors='black')\n",
    "plt.scatter(x=X1_mean_centered, y=X2_mean_centered, color='red', marker='s', s=100, edgecolors='black')\n",
    "plt.xlabel('X1')\n",
    "plt.ylabel('X2')\n",
    "plt.title('Scatter Plot of original v.s. mean-centered X1 & X2')\n",
    "plt.legend(['Original', 'Mean-Centered'])\n",
    "plt.show()"
   ]
  },
  {
   "cell_type": "markdown",
   "metadata": {},
   "source": [
    "## Covariance"
   ]
  },
  {
   "cell_type": "markdown",
   "metadata": {},
   "source": [
    "Write down the covariance matrix of the data matrix $D$. Use estimated covariance."
   ]
  },
  {
   "cell_type": "code",
   "execution_count": 27,
   "metadata": {},
   "outputs": [
    {
     "data": {
      "text/plain": [
       "array([[2.        , 1.85714286],\n",
       "       [1.85714286, 3.92410714]])"
      ]
     },
     "execution_count": 27,
     "metadata": {},
     "output_type": "execute_result"
    }
   ],
   "source": [
    "def covariance(v1, v2 = None):\n",
    "    if v2 is None: v2 = v1\n",
    "    # vector 1 mean\n",
    "    v1_mean = v1.mean()\n",
    "    # vector 2 mean\n",
    "    v2_mean = v2.mean()\n",
    "    # co_var (the covariance between v1 and v2)\n",
    "    co_var = 0\n",
    "    # loop through v1 and v2 values\n",
    "    for i in range(v1.shape[0]):\n",
    "        co_var += (v1[i] - v1_mean) * (v2[i] - v2_mean)\n",
    "    # calculate and return the co-variance between v1 and v2\n",
    "    return (co_var / (v1.shape[0] - 1))\n",
    "\n",
    "def covarianceMatrix(m):\n",
    "    # co-variance matrix\n",
    "    covar_m = np.ndarray((m.shape[1], m.shape[1]))\n",
    "    # loop through input matrix rows\n",
    "    for i in range(m.shape[1]):\n",
    "        # loop through input matrix rows (again)\n",
    "        for j in range(m.shape[1]):\n",
    "            # set x_ij covariance value\n",
    "            covar_m[i, j] = covariance(m[:,i], m[:,j])\n",
    "    # return the covariance matrix\n",
    "    return covar_m\n",
    "covarianceMatrix(D)"
   ]
  },
  {
   "cell_type": "markdown",
   "metadata": {},
   "source": [
    "## Covariance Matrix of Z (Centered Mean)"
   ]
  },
  {
   "cell_type": "markdown",
   "metadata": {},
   "source": [
    "Write down the covariance matrix of the centered data matrix $Z$. Use estimated covariance."
   ]
  },
  {
   "cell_type": "code",
   "execution_count": 28,
   "metadata": {},
   "outputs": [
    {
     "data": {
      "text/plain": [
       "array([[2.        , 1.85714286],\n",
       "       [1.85714286, 3.92410714]])"
      ]
     },
     "execution_count": 28,
     "metadata": {},
     "output_type": "execute_result"
    }
   ],
   "source": [
    "covarianceMatrix(meanCenteredData)"
   ]
  },
  {
   "cell_type": "markdown",
   "metadata": {},
   "source": [
    "## Covariance Matric of Standard Normalization"
   ]
  },
  {
   "cell_type": "markdown",
   "metadata": {},
   "source": [
    "Write down the covariance matrix of the data after applying standard normalization."
   ]
  },
  {
   "cell_type": "code",
   "execution_count": 29,
   "metadata": {},
   "outputs": [
    {
     "data": {
      "text/plain": [
       "array([[1.        , 0.66291811],\n",
       "       [0.66291811, 1.        ]])"
      ]
     },
     "execution_count": 29,
     "metadata": {},
     "output_type": "execute_result"
    }
   ],
   "source": [
    "def zScoreNormalize(m):\n",
    "    # create normlized matrix based on shape of input matrix\n",
    "    z_score = np.ndarray(m.shape)\n",
    "    # loop through input matrix rows\n",
    "    for row_index in range(m.shape[0]):\n",
    "        # loop through input matrix columns\n",
    "        for col_index in range(m.shape[1]):\n",
    "            # get current column array\n",
    "            col_arr = m[:,col_index]\n",
    "            # calculate the standard devieation for the current column\n",
    "            col_std_div = (covariance(col_arr)) ** (1/2)\n",
    "            # calculate the column's mean\n",
    "            col_mean = col_arr.mean()\n",
    "            # get the x_ij value from the imput matix\n",
    "            x_ij = m[row_index, col_index]\n",
    "            # calculate the x_ji z-score\n",
    "            x_ij_zscore = (x_ij - col_mean) / col_std_div\n",
    "            # set x_ij normalized value in normalized matrix\n",
    "            z_score[row_index, col_index] = x_ij_zscore\n",
    "    # return the normalized array\n",
    "    return z_score\n",
    "covarianceMatrix(zScoreNormalize(D))"
   ]
  }
 ],
 "metadata": {
  "interpreter": {
   "hash": "62d9424e435af035718f4f007d064cf3a13d4213694ffce26c66ef6443d414ae"
  },
  "kernelspec": {
   "display_name": "Python 3.8.12 ('csci347')",
   "language": "python",
   "name": "python3"
  },
  "language_info": {
   "codemirror_mode": {
    "name": "ipython",
    "version": 3
   },
   "file_extension": ".py",
   "mimetype": "text/x-python",
   "name": "python",
   "nbconvert_exporter": "python",
   "pygments_lexer": "ipython3",
   "version": "3.8.12"
  },
  "orig_nbformat": 4
 },
 "nbformat": 4,
 "nbformat_minor": 2
}
