{
  "nbformat": 4,
  "nbformat_minor": 0,
  "metadata": {
    "colab": {
      "name": "HW-02.ipynb",
      "provenance": [],
      "collapsed_sections": []
    },
    "kernelspec": {
      "name": "python3",
      "display_name": "Python 3"
    },
    "language_info": {
      "name": "python"
    }
  },
  "cells": [
    {
      "cell_type": "markdown",
      "source": [
        "# Homework 02\n",
        "\n",
        "## River Kelly\n",
        "### CSCI-347\n",
        "### Feb 16, 2022\n",
        "\n",
        "> **Collaborators**: Kyler Gappa\n",
        "\n",
        "Show your work. Include any code snippets you used to generate an answer, using comments in the code to clearly indicate which problem corresponds to which code"
      ],
      "metadata": {
        "id": "13jyI8Pd3NUv"
      }
    },
    {
      "cell_type": "code",
      "execution_count": null,
      "metadata": {
        "id": "e94GnDRI0kQN",
        "colab": {
          "base_uri": "https://localhost:8080/"
        },
        "outputId": "f771b9f0-1396-4290-9322-6c92573f2b54"
      },
      "outputs": [
        {
          "output_type": "execute_result",
          "data": {
            "text/plain": [
              "chararray([[b'red', b'yes', b'north'],\n",
              "           [b'blue', b'no', b'south'],\n",
              "           [b'yellow', b'no', b'east'],\n",
              "           [b'yellow', b'no', b'west'],\n",
              "           [b'red', b'yes', b'north'],\n",
              "           [b'yellow', b'yes', b'north'],\n",
              "           [b'blue', b'no', b'west']], dtype='|S6')"
            ]
          },
          "metadata": {},
          "execution_count": 45
        }
      ],
      "source": [
        "import numpy as np\n",
        "import matplotlib.pyplot as plt\n",
        "import math\n",
        "\n",
        "data    = np.chararray((7, 3), itemsize=6)\n",
        "\n",
        "data[0] = np.array(['red',    'yes',  'north'])\n",
        "data[1] = np.array(['blue',   'no',   'south'])\n",
        "data[2] = np.array(['yellow', 'no',   'east'])\n",
        "data[3] = np.array(['yellow', 'no',   'west'])\n",
        "data[4] = np.array(['red',    'yes',  'north'])\n",
        "data[5] = np.array(['yellow', 'yes',  'north'])\n",
        "data[6] = np.array(['blue',   'no',   'west'])\n",
        "\n",
        "data"
      ]
    },
    {
      "cell_type": "markdown",
      "source": [
        "# Question 1\n",
        "\n",
        "Use matplotlib to create a bar plot for the counts of the variable X2 . Make sure to label the axis."
      ],
      "metadata": {
        "id": "upx4vxhmCcjh"
      }
    },
    {
      "cell_type": "code",
      "source": [
        "target = data\n",
        "np.unique(target)\n",
        "target_x2 = target[:,1]\n",
        "\n",
        "counts = [sum(target_x2==b'yes'), sum(target_x2==b'no')]\n",
        "target_names = ['yes' ,' no']\n",
        "\n",
        "plt.bar(target_names, counts)\n",
        "plt.ylabel('Number of Occurrences')\n",
        "plt.xlabel(\"'Yes' or 'No' value\")\n",
        "plt.title('Yes/No Bar Graph')"
      ],
      "metadata": {
        "id": "vQe5X7wRCQUr",
        "colab": {
          "base_uri": "https://localhost:8080/",
          "height": 312
        },
        "outputId": "a8ffe5af-2af6-4d99-e626-16ac9d642a09"
      },
      "execution_count": null,
      "outputs": [
        {
          "output_type": "execute_result",
          "data": {
            "text/plain": [
              "Text(0.5, 1.0, 'Yes/No Bar Graph')"
            ]
          },
          "metadata": {},
          "execution_count": 46
        },
        {
          "output_type": "display_data",
          "data": {
            "image/png": "[encoded data removed]",
            "text/plain": [
              "<Figure size 432x288 with 1 Axes>"
            ]
          },
          "metadata": {
            "needs_background": "light"
          }
        }
      ]
    },
    {
      "cell_type": "markdown",
      "source": [
        "# 2. (2 points)\n",
        "\n",
        "Use one-hot encoding to transform all the categorical attributes to numerical values.\n",
        "\n",
        "Write down the transformed data matrix. (In what follows, we will referred to the transformed data matrix as Y)."
      ],
      "metadata": {
        "id": "VOoh5JN6KawE"
      }
    },
    {
      "cell_type": "code",
      "source": [
        "oneHotData = np.ndarray((7, 9))\n",
        "\n",
        "for row in range(data.shape[0]):\n",
        "    row_array = data[row,:]\n",
        "    color       = row_array[0]\n",
        "    yes_no      = row_array[1]\n",
        "    direction   = row_array[2]\n",
        "    # empty row for encoded data\n",
        "    hot_data_row = np.array([0] * 9)\n",
        "    # encode color\n",
        "    if color == b'red': hot_data_row[0] = 1\n",
        "    elif color == b'blue': hot_data_row[1] = 1\n",
        "    elif color == b'yellow': hot_data_row[2] = 1\n",
        "    # encode yes/no\n",
        "    if yes_no == b'yes': hot_data_row[3] = 1\n",
        "    else: hot_data_row[4] = 1\n",
        "    # encode direction (north, south, east, and west)\n",
        "    if   direction == b'north': hot_data_row[5] = 1\n",
        "    elif direction == b'south': hot_data_row[6] = 1\n",
        "    elif direction == b'east': hot_data_row[7] = 1\n",
        "    elif direction == b'west': hot_data_row[8] = 1\n",
        "    # set row values on encoded matrix\n",
        "    oneHotData[row] = hot_data_row\n",
        "\n",
        "# print one-hot encoded matrix\n",
        "oneHotData"
      ],
      "metadata": {
        "colab": {
          "base_uri": "https://localhost:8080/"
        },
        "id": "mLlGovL6KZv4",
        "outputId": "d88aca0d-80f2-4730-aef7-3406b5866a52"
      },
      "execution_count": null,
      "outputs": [
        {
          "output_type": "execute_result",
          "data": {
            "text/plain": [
              "array([[1., 0., 0., 1., 0., 1., 0., 0., 0.],\n",
              "       [0., 1., 0., 0., 1., 0., 1., 0., 0.],\n",
              "       [0., 0., 1., 0., 1., 0., 0., 1., 0.],\n",
              "       [0., 0., 1., 0., 1., 0., 0., 0., 1.],\n",
              "       [1., 0., 0., 1., 0., 1., 0., 0., 0.],\n",
              "       [0., 0., 1., 1., 0., 1., 0., 0., 0.],\n",
              "       [0., 1., 0., 0., 1., 0., 0., 0., 1.]])"
            ]
          },
          "metadata": {},
          "execution_count": 47
        }
      ]
    },
    {
      "cell_type": "markdown",
      "source": [
        "# Question 3\n",
        "\n",
        "What is the Euclidean distance between instance x 2 (second row) and x 7 (seventh row) after applying one-hot encoding."
      ],
      "metadata": {
        "id": "thrAcfdQi2Oq"
      }
    },
    {
      "cell_type": "code",
      "source": [
        "def euclideanDistance(m, row1Num, row2Num):\n",
        "    x1 = m[row1Num,:]\n",
        "    x2 = m[row2Num,:]\n",
        "    answer = 0\n",
        "    for i in range(m.shape[1]):\n",
        "        answer += (x1[i] - x2[i]) ** 2\n",
        "    return math.sqrt(answer)\n",
        "\n",
        "print(\"Euclidean Distance (x2 and x7): \", euclideanDistance(oneHotData, 1, 6))"
      ],
      "metadata": {
        "colab": {
          "base_uri": "https://localhost:8080/"
        },
        "id": "QSULXuKwPNFG",
        "outputId": "7c541e26-1371-4817-9e06-08f1ae0f50d1"
      },
      "execution_count": null,
      "outputs": [
        {
          "output_type": "stream",
          "name": "stdout",
          "text": [
            "Euclidean Distance (x2 and x7):  1.4142135623730951\n"
          ]
        }
      ]
    },
    {
      "cell_type": "markdown",
      "source": [
        "# Question 4\n",
        "\n",
        "What is the cosine similarity (cosine of the angle) between data instance x 2 and data instance x 7 after applying one-hot encoding?"
      ],
      "metadata": {
        "id": "4OIkDYaijsnh"
      }
    },
    {
      "cell_type": "code",
      "source": [
        "def cosineOfRows(m, row1Num, row2Num):\n",
        "    x1 = m[row1Num,:]\n",
        "    x2 = m[row2Num,:]\n",
        "    top = 0\n",
        "    bottom_left = 0\n",
        "    bottom_right = 0\n",
        "    for i in range(m.shape[1]):\n",
        "        top += x1[i] * x2[i]\n",
        "        bottom_left += x1[i] ** 2\n",
        "        bottom_right += x2[i] ** 2\n",
        "    return top / (math.sqrt(bottom_left) * math.sqrt(bottom_right))\n",
        "\n",
        "print(\"Cosine x2 and x7: \", cosineOfRows(oneHotData, 1, 6))"
      ],
      "metadata": {
        "colab": {
          "base_uri": "https://localhost:8080/"
        },
        "id": "rHXxQHRcSBXV",
        "outputId": "4dc3459e-24ec-4fcd-e5b4-554cd3e66d14"
      },
      "execution_count": null,
      "outputs": [
        {
          "output_type": "stream",
          "name": "stdout",
          "text": [
            "Cosine x2 and x7:  0.6666666666666667\n"
          ]
        }
      ]
    },
    {
      "cell_type": "markdown",
      "source": [
        "# Question 5\n",
        "\n",
        "What is the Hamming distance between data instance x2 and data instance x7 after applying one-hot encoding?"
      ],
      "metadata": {
        "id": "K7gviaN8lGaH"
      }
    },
    {
      "cell_type": "code",
      "source": [
        "def hammingDistance(m, row1Num, row2Num):\n",
        "    x1 = m[row1Num,:]\n",
        "    x2 = m[row2Num,:]\n",
        "    sum = 0\n",
        "    for i in range(m.shape[1]):\n",
        "        if (x1[i] == 1 and x2[i] == 0) or (x1[i] == 0 and x2[i] == 1):\n",
        "            sum += 1\n",
        "    return sum\n",
        "\n",
        "print(\"Hamming Distance (XOR) of x2 and x7: \", hammingDistance(oneHotData, 1, 6))"
      ],
      "metadata": {
        "colab": {
          "base_uri": "https://localhost:8080/"
        },
        "id": "aJLeOqfUT6Tr",
        "outputId": "f537515e-c5c0-4a6d-cbe2-b18c0c9bba37"
      },
      "execution_count": null,
      "outputs": [
        {
          "output_type": "stream",
          "name": "stdout",
          "text": [
            "Hamming Distance (XOR) of x2 and x7:  2\n"
          ]
        }
      ]
    },
    {
      "cell_type": "markdown",
      "source": [
        "# Question 6\n",
        "\n",
        "What is the Jaccard similarity between data instance x 2 and x 7 after applying\n",
        "one-hot encoding?"
      ],
      "metadata": {
        "id": "vwgkbZ2Al5rY"
      }
    },
    {
      "cell_type": "code",
      "source": [
        "def jaccardSimilarity(m, row1Num, row2Num):\n",
        "    x1 = m[row1Num,:]\n",
        "    x2 = m[row2Num,:]\n",
        "    top = 0\n",
        "    bottom = 0\n",
        "    for i in range(m.shape[1]):\n",
        "        # top\n",
        "        if (x1[i] == x2[i]): top += 1\n",
        "        # bottom\n",
        "        if (x1[i] != x2[i]): bottom += 1\n",
        "    return (top / bottom)\n",
        "\n",
        "jaccardSimilarity(oneHotData, 1, 6)"
      ],
      "metadata": {
        "id": "WmDu2CzFVm7J",
        "colab": {
          "base_uri": "https://localhost:8080/"
        },
        "outputId": "7f5fabd0-a54f-48dd-cce5-efd1d53b6b26"
      },
      "execution_count": null,
      "outputs": [
        {
          "output_type": "execute_result",
          "data": {
            "text/plain": [
              "3.5"
            ]
          },
          "metadata": {},
          "execution_count": 51
        }
      ]
    },
    {
      "cell_type": "markdown",
      "source": [
        "# Question 7\n",
        "\n",
        "What is the multi-dimensional mean of `Y`?"
      ],
      "metadata": {
        "id": "mA-0fTsIm7Bx"
      }
    },
    {
      "cell_type": "code",
      "source": [
        "def multiDimensionalMean(m):\n",
        "    mean_data = [0] * m.shape[1]\n",
        "    for row in range(m.shape[0]):\n",
        "        for col in range(m.shape[1]):\n",
        "            mean_data[col] += m[row, col]\n",
        "    for col in range(len(mean_data)):\n",
        "        mean_data[col] = mean_data[col] / m.shape[0]\n",
        "    return mean_data\n",
        "\n",
        "multiDimensionalMean(oneHotData)"
      ],
      "metadata": {
        "colab": {
          "base_uri": "https://localhost:8080/"
        },
        "id": "Yoj3ehdcm_25",
        "outputId": "b6b8e8b6-480a-4dfc-b6a7-cac5ae757b0f"
      },
      "execution_count": null,
      "outputs": [
        {
          "output_type": "execute_result",
          "data": {
            "text/plain": [
              "[0.2857142857142857,\n",
              " 0.2857142857142857,\n",
              " 0.42857142857142855,\n",
              " 0.42857142857142855,\n",
              " 0.5714285714285714,\n",
              " 0.42857142857142855,\n",
              " 0.14285714285714285,\n",
              " 0.14285714285714285,\n",
              " 0.2857142857142857]"
            ]
          },
          "metadata": {},
          "execution_count": 52
        }
      ]
    },
    {
      "cell_type": "markdown",
      "source": [
        "# Question 8\n",
        "\n",
        "What is the estimated variance of the first column of Y ?"
      ],
      "metadata": {
        "id": "ZHvhThY5pqQK"
      }
    },
    {
      "cell_type": "code",
      "source": [
        "def coVariance(m, col1Num, col2Num):\n",
        "    col1 = m[:,col1Num]\n",
        "    col2 = m[:,col2Num]\n",
        "    answer = 0\n",
        "    for i in range(m.shape[0]):\n",
        "        answer += (col1[i] - col1.mean()) * (col2[i] - col2.mean())\n",
        "    return answer / (m.shape[0] - 1)\n",
        "\n",
        "print(\"Estimated variance of the first column of Y: {!s}\".format(coVariance(oneHotData, 0, 0)))"
      ],
      "metadata": {
        "colab": {
          "base_uri": "https://localhost:8080/"
        },
        "id": "cB2YAFNDpu6f",
        "outputId": "d3cbdb2f-8cae-4a4e-b9dc-c387aa2f4855"
      },
      "execution_count": null,
      "outputs": [
        {
          "output_type": "stream",
          "name": "stdout",
          "text": [
            "Estimated variance of the first column of Y: 0.23809523809523814\n"
          ]
        }
      ]
    },
    {
      "cell_type": "code",
      "source": [
        "# We can double check this by:\n",
        "print('Double check with np built in function: {!s}'.format(np.var(oneHotData[:,0], ddof=1)))"
      ],
      "metadata": {
        "colab": {
          "base_uri": "https://localhost:8080/"
        },
        "id": "T6qWT5CMDYnw",
        "outputId": "f89adb67-9cfa-418f-966a-7f374983b1c4"
      },
      "execution_count": null,
      "outputs": [
        {
          "output_type": "stream",
          "name": "stdout",
          "text": [
            "Double check with np built in function: 0.23809523809523814\n"
          ]
        }
      ]
    },
    {
      "cell_type": "markdown",
      "source": [
        "# Question 9\n",
        "\n",
        "What is the resulting matrix after applying standard (z-score) normalization to the matrix `Y`. In the following, we will call this matrix `Z`."
      ],
      "metadata": {
        "id": "nVkFq2nSrsz-"
      }
    },
    {
      "cell_type": "code",
      "source": [
        "def zScore(m):\n",
        "    z_score = np.ndarray(m.shape)\n",
        "    for row in range(z_score.shape[0]):\n",
        "        for col in range(z_score.shape[1]):\n",
        "            z_score[row, col] = 0\n",
        "            x_ij = m[row, col]\n",
        "            mean = m[:,col].mean()\n",
        "            div = math.sqrt(coVariance(m, col, col))\n",
        "            z_score[row, col] = (x_ij - mean) / div\n",
        "    return z_score\n",
        "\n",
        "zScore(oneHotData)"
      ],
      "metadata": {
        "id": "_C7mP4TcrxsP",
        "colab": {
          "base_uri": "https://localhost:8080/"
        },
        "outputId": "40a7b724-a023-40ef-a2a9-238e7ebdac38"
      },
      "execution_count": null,
      "outputs": [
        {
          "output_type": "execute_result",
          "data": {
            "text/plain": [
              "array([[ 1.46385011, -0.58554004, -0.80178373,  1.06904497, -1.06904497,\n",
              "         1.06904497, -0.37796447, -0.37796447, -0.58554004],\n",
              "       [-0.58554004,  1.46385011, -0.80178373, -0.80178373,  0.80178373,\n",
              "        -0.80178373,  2.26778684, -0.37796447, -0.58554004],\n",
              "       [-0.58554004, -0.58554004,  1.06904497, -0.80178373,  0.80178373,\n",
              "        -0.80178373, -0.37796447,  2.26778684, -0.58554004],\n",
              "       [-0.58554004, -0.58554004,  1.06904497, -0.80178373,  0.80178373,\n",
              "        -0.80178373, -0.37796447, -0.37796447,  1.46385011],\n",
              "       [ 1.46385011, -0.58554004, -0.80178373,  1.06904497, -1.06904497,\n",
              "         1.06904497, -0.37796447, -0.37796447, -0.58554004],\n",
              "       [-0.58554004, -0.58554004,  1.06904497,  1.06904497, -1.06904497,\n",
              "         1.06904497, -0.37796447, -0.37796447, -0.58554004],\n",
              "       [-0.58554004,  1.46385011, -0.80178373, -0.80178373,  0.80178373,\n",
              "        -0.80178373, -0.37796447, -0.37796447,  1.46385011]])"
            ]
          },
          "metadata": {},
          "execution_count": 55
        }
      ]
    },
    {
      "cell_type": "markdown",
      "source": [
        "# Question 10\n",
        "\n",
        "What is the multi-dimensional mean of `Z`?"
      ],
      "metadata": {
        "id": "bLMclcJFDsNg"
      }
    },
    {
      "cell_type": "code",
      "source": [
        "multiDimensionalMean(zScore(oneHotData))"
      ],
      "metadata": {
        "colab": {
          "base_uri": "https://localhost:8080/"
        },
        "id": "RsU2HEeuDxgy",
        "outputId": "2d203425-81a0-48b2-b8b8-5645a1389ba0"
      },
      "execution_count": null,
      "outputs": [
        {
          "output_type": "execute_result",
          "data": {
            "text/plain": [
              "[0.0,\n",
              " 6.344131569286608e-17,\n",
              " 0.0,\n",
              " 1.586032892321652e-17,\n",
              " 1.1102230246251565e-16,\n",
              " 1.586032892321652e-17,\n",
              " 4.7580986769649563e-17,\n",
              " 4.7580986769649563e-17,\n",
              " 3.172065784643304e-17]"
            ]
          },
          "metadata": {},
          "execution_count": 56
        }
      ]
    },
    {
      "cell_type": "markdown",
      "source": [
        "# Question 11\n",
        "\n",
        "Let z i be the i-th row of Z. What is Euclidean distance between `z2` and `z7`?"
      ],
      "metadata": {
        "id": "4fmoUcZnKiBf"
      }
    },
    {
      "cell_type": "code",
      "source": [
        "euclideanDistance(zScore(oneHotData), 1, 6)"
      ],
      "metadata": {
        "colab": {
          "base_uri": "https://localhost:8080/"
        },
        "id": "J3yi4l2ZKwF5",
        "outputId": "c34244e7-33b7-48de-a5cb-07d291f476ca"
      },
      "execution_count": null,
      "outputs": [
        {
          "output_type": "execute_result",
          "data": {
            "text/plain": [
              "3.3466401061363023"
            ]
          },
          "metadata": {},
          "execution_count": 57
        }
      ]
    }
  ]
}