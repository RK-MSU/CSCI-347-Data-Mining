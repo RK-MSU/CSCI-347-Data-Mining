{
 "cells": [
  {
   "cell_type": "markdown",
   "metadata": {},
   "source": [
    "River Kelly\n",
    "\n",
    "CSCI 347\n",
    "\n",
    "Homework 05"
   ]
  },
  {
   "cell_type": "markdown",
   "metadata": {},
   "source": [
    "Show your work. Include any code snippets you used to generate an answer, using comments\n",
    "in the code to clearly indicate which problem corresponds to which code"
   ]
  },
  {
   "cell_type": "code",
   "execution_count": null,
   "metadata": {},
   "outputs": [],
   "source": [
    "import math\n",
    "import pandas as pd\n",
    "import numpy as np\n",
    "import matplotlib.pyplot as plt\n",
    "from sklearn.decomposition import PCA"
   ]
  },
  {
   "cell_type": "markdown",
   "metadata": {},
   "source": [
    "# 1. (2 points)"
   ]
  },
  {
   "cell_type": "markdown",
   "metadata": {},
   "source": [
    "In Python, generate a (2-dimensional multivariate Gaussian) data matrix $D$ using the following code:"
   ]
  },
  {
   "cell_type": "code",
   "execution_count": null,
   "metadata": {},
   "outputs": [],
   "source": [
    "mu = np.array([0,0])\n",
    "Sigma = np.array([[1,0], [0, 1]])\n",
    "X1, X2 = np.random.multivariate_normal(mu, Sigma, 1000).T\n",
    "D = np.array([X1, X2]).T"
   ]
  },
  {
   "cell_type": "markdown",
   "metadata": {},
   "source": [
    "Create a scatter plot of the data, with the x-axis corresponding to the first attribute (column)\n",
    "in D, and the y-axis corresponding to the second attribute (column) in D."
   ]
  },
  {
   "cell_type": "code",
   "execution_count": null,
   "metadata": {},
   "outputs": [],
   "source": [
    "plt.scatter(x=D[:,0], y=D[:,1], s=1)\n",
    "plt.xlabel('first attribute')\n",
    "plt.ylabel('second attribute')\n",
    "plt.show()"
   ]
  },
  {
   "cell_type": "markdown",
   "metadata": {},
   "source": [
    "# 2. (7 points)"
   ]
  },
  {
   "cell_type": "markdown",
   "metadata": {},
   "source": [
    "Using the scaling matrix $S$ and rotation matrix $R$ below to transform the data $D$\n",
    "from Question 1, by multiplying each data instance (row) $x_i$ by $RS$. Let $D_{RS}$ be the matrix of\n",
    "the transformed data. That is, each 2-dimensional row vector $x_i$ in $D$ should be transformed\n",
    "into a 2-dimensional vector $RSx_i$ in $D_{RS}$."
   ]
  },
  {
   "cell_type": "code",
   "execution_count": null,
   "metadata": {},
   "outputs": [],
   "source": [
    "R = np.ndarray(shape=(2,2))\n",
    "R[0] = [ math.cos( math.pi / 4 ), - math.sin( math.pi / 4) ]\n",
    "R[1] = [ math.sin( math.pi / 4 ), math.cos( math.pi / 4) ]\n",
    "\n",
    "S = np.ndarray(shape=(2,2))\n",
    "S[0] = [5, 0]\n",
    "S[1] = [0, 2]"
   ]
  },
  {
   "cell_type": "code",
   "execution_count": null,
   "metadata": {},
   "outputs": [],
   "source": [
    "D_RS = np.ndarray(shape=D.shape)\n",
    "for index, row in enumerate(D):\n",
    "    new_row = np.dot(row, R)\n",
    "    new_row = np.dot(new_row, S)\n",
    "    D_RS[index] = new_row"
   ]
  },
  {
   "cell_type": "markdown",
   "metadata": {},
   "source": [
    "## a (4 points)"
   ]
  },
  {
   "cell_type": "markdown",
   "metadata": {},
   "source": [
    "Plot the transformed data $D_{RS}$ in the same figure as the original data $D$,\n",
    "using different colors to differentiate between the original and transformed data.\n",
    "\n",
    "$$\n",
    "R =\\begin{pmatrix}\n",
    "  \\cos(\\pi / 4) & - \\sin(\\pi/4) \\\\ \n",
    "  \\sin(\\pi / 4) & \\cos(\\pi /4) \n",
    "\\end{pmatrix} , \n",
    "S =\\begin{pmatrix}\n",
    "  5 & 0 \\\\\n",
    "  0 & 2\n",
    "\\end{pmatrix}\n",
    "$$"
   ]
  },
  {
   "cell_type": "code",
   "execution_count": null,
   "metadata": {},
   "outputs": [],
   "source": [
    "plt.scatter(x=D[:,0], y=D[:,1], color='blue', marker='o', s=1)\n",
    "plt.scatter(x=D_RS[:,0], y=D_RS[:,1], color='red', marker='s', s=1)\n",
    "plt.xlabel('first attribute')\n",
    "plt.ylabel('second attribute')\n",
    "plt.legend(['Original', 'Transformed'])\n",
    "plt.show()"
   ]
  },
  {
   "cell_type": "markdown",
   "metadata": {},
   "source": [
    "## b (2 points)"
   ]
  },
  {
   "cell_type": "markdown",
   "metadata": {},
   "source": [
    "Write down the covariance matrix of the transformed data $D_{RS}$."
   ]
  },
  {
   "cell_type": "code",
   "execution_count": null,
   "metadata": {},
   "outputs": [],
   "source": [
    "def covariance(v1, v2 = None):\n",
    "    if v2 is None: v2 = v1\n",
    "    # vector 1 mean\n",
    "    v1_mean = v1.mean()\n",
    "    # vector 2 mean\n",
    "    v2_mean = v2.mean()\n",
    "    # co_var (the covariance between v1 and v2)\n",
    "    co_var = 0\n",
    "    # loop through v1 and v2 values\n",
    "    for i in range(v1.shape[0]):\n",
    "        co_var += (v1[i] - v1_mean) * (v2[i] - v2_mean)\n",
    "    # calculate and return the co-variance between v1 and v2\n",
    "    return (co_var / (v1.shape[0] - 1))\n",
    "\n",
    "def covarianceMatrix(m):\n",
    "    # co-variance matrix\n",
    "    covar_m = np.ndarray((m.shape[1], m.shape[1]))\n",
    "    # loop through input matrix rows\n",
    "    for i in range(m.shape[1]):\n",
    "        # loop through input matrix rows (again)\n",
    "        for j in range(m.shape[1]):\n",
    "            # set x_ij covariance value\n",
    "            covar_m[i, j] = covariance(m[:,i], m[:,j])\n",
    "    # return the covariance matrix\n",
    "    return covar_m\n",
    "covarianceMatrix(D_RS)"
   ]
  },
  {
   "cell_type": "markdown",
   "metadata": {},
   "source": [
    "## c (1 point)"
   ]
  },
  {
   "cell_type": "markdown",
   "metadata": {},
   "source": [
    "What is the total variance of the transformed data $D_{RS}$."
   ]
  },
  {
   "cell_type": "code",
   "execution_count": null,
   "metadata": {},
   "outputs": [],
   "source": [
    "total_var = 0\n",
    "for col_index in range(D_RS.shape[1]):\n",
    "    total_var += covariance(D_RS[:,col_index])\n",
    "total_var"
   ]
  },
  {
   "cell_type": "code",
   "execution_count": null,
   "metadata": {},
   "outputs": [],
   "source": [
    "# Double check our answer\n",
    "total_var = 0\n",
    "for col_index in range(D_RS.shape[1]):\n",
    "    total_var += np.var(D_RS[:,col_index], ddof=1)\n",
    "total_var"
   ]
  },
  {
   "cell_type": "markdown",
   "metadata": {},
   "source": [
    "# 3. (8 points)"
   ]
  },
  {
   "cell_type": "markdown",
   "metadata": {},
   "source": [
    "Use sklearn’s PCA function to transform the data matrix $D_{RS}$ from Question 2 to\n",
    "a 2-dimensional space where the coordinate axes are the principal components."
   ]
  },
  {
   "cell_type": "code",
   "execution_count": null,
   "metadata": {},
   "outputs": [],
   "source": [
    "pca = PCA(n_components=2)\n",
    "pca_transformed_D = pca.fit_transform(D_RS)"
   ]
  },
  {
   "cell_type": "code",
   "execution_count": null,
   "metadata": {},
   "outputs": [],
   "source": [
    "pca.explained_variance_ratio_"
   ]
  },
  {
   "cell_type": "markdown",
   "metadata": {},
   "source": [
    "## a (4 points)"
   ]
  },
  {
   "cell_type": "markdown",
   "metadata": {},
   "source": [
    "Plot the PCA-transformed data, with the $x$-axis corresponding to the first\n",
    "principal component and the $y$-axis corresponding to the second principal component."
   ]
  },
  {
   "cell_type": "code",
   "execution_count": null,
   "metadata": {},
   "outputs": [],
   "source": [
    "plt.scatter(x=pca_transformed_D[:,0], y=pca_transformed_D[:,1], color='blue', marker='o', s=1)\n",
    "plt.xlabel('first principal')\n",
    "plt.ylabel('second principal')\n",
    "plt.show()"
   ]
  },
  {
   "cell_type": "markdown",
   "metadata": {},
   "source": [
    "## b (2 points)"
   ]
  },
  {
   "cell_type": "markdown",
   "metadata": {},
   "source": [
    "What is the estimated covariance matrix of the PCA-transformed data?"
   ]
  },
  {
   "cell_type": "code",
   "execution_count": null,
   "metadata": {},
   "outputs": [],
   "source": [
    "covarianceMatrix(pca_transformed_D)"
   ]
  },
  {
   "cell_type": "markdown",
   "metadata": {},
   "source": [
    "## c (2 points)"
   ]
  },
  {
   "cell_type": "markdown",
   "metadata": {},
   "source": [
    "What is the fraction of the total variance captured in the direction of the\n",
    "first principal component? What is the fraction of the total variance captured in the\n",
    "direction of the second principal component?"
   ]
  },
  {
   "cell_type": "markdown",
   "metadata": {},
   "source": [
    "# 4 (18 points)"
   ]
  },
  {
   "cell_type": "markdown",
   "metadata": {},
   "source": [
    "Load the Boston data set into Python using sklearn’s datasets package. Use\n",
    "sklearn’s PCA function to reduce the dimensionality of the data to 2 dimensions."
   ]
  },
  {
   "cell_type": "code",
   "execution_count": null,
   "metadata": {},
   "outputs": [],
   "source": [
    "from sklearn.datasets import load_boston\n",
    "D_boston = load_boston()['data']"
   ]
  },
  {
   "cell_type": "code",
   "execution_count": null,
   "metadata": {},
   "outputs": [],
   "source": [
    "pca = PCA(n_components=2)\n",
    "pca_transformed_D_boston = pca.fit_transform(D_boston)"
   ]
  },
  {
   "cell_type": "markdown",
   "metadata": {},
   "source": [
    "## a (5 points)"
   ]
  },
  {
   "cell_type": "markdown",
   "metadata": {},
   "source": [
    "First, standard-normalize the data. Then, create a scatter plot of the 2-dimensional, PCA-transformed normalized Boston data, with the $x$-axis corresponding\n",
    "to the first principal component and the $y$-axis corresponding to the second principal\n",
    "component."
   ]
  },
  {
   "cell_type": "code",
   "execution_count": null,
   "metadata": {},
   "outputs": [],
   "source": [
    "def zScoreNormalize(m):\n",
    "    # create normlized matrix based on shape of input matrix\n",
    "    z_score = np.ndarray(m.shape)\n",
    "    # loop through input matrix rows\n",
    "    for row_index in range(m.shape[0]):\n",
    "        # loop through input matrix columns\n",
    "        for col_index in range(m.shape[1]):\n",
    "            # get current column array\n",
    "            col_arr = m[:,col_index]\n",
    "            # calculate the standard devieation for the current column\n",
    "            col_std_div = (covariance(col_arr)) ** (1/2)\n",
    "            # calculate the column's mean\n",
    "            col_mean = col_arr.mean()\n",
    "            # get the x_ij value from the imput matix\n",
    "            x_ij = m[row_index, col_index]\n",
    "            # calculate the x_ji z-score\n",
    "            x_ij_zscore = (x_ij - col_mean) / col_std_div\n",
    "            # set x_ij normalized value in normalized matrix\n",
    "            z_score[row_index, col_index] = x_ij_zscore\n",
    "    # return the normalized array\n",
    "    return z_score"
   ]
  },
  {
   "cell_type": "code",
   "execution_count": null,
   "metadata": {},
   "outputs": [],
   "source": [
    "pca_transformed_D_boston_normalized = zScoreNormalize(pca_transformed_D_boston)"
   ]
  },
  {
   "cell_type": "code",
   "execution_count": null,
   "metadata": {},
   "outputs": [],
   "source": [
    "plt.scatter(x=pca_transformed_D_boston_normalized[:,0], y=pca_transformed_D_boston_normalized[:,1], color='blue', marker='o', s=1)\n",
    "plt.xlabel('first principal')\n",
    "plt.ylabel('second principal')\n",
    "plt.show()"
   ]
  },
  {
   "cell_type": "markdown",
   "metadata": {},
   "source": [
    "## b (3 points)"
   ]
  },
  {
   "cell_type": "markdown",
   "metadata": {},
   "source": [
    "Create a plot of the fraction of the total variance explained by the first $r$\n",
    "components for $r = 1, 2, \\ldots , 13$."
   ]
  },
  {
   "cell_type": "markdown",
   "metadata": {},
   "source": [
    "## c (2 points)"
   ]
  },
  {
   "cell_type": "markdown",
   "metadata": {},
   "source": [
    "### i. (1 point) "
   ]
  },
  {
   "cell_type": "markdown",
   "metadata": {},
   "source": [
    "If we want to capture at least $90\\%$ of the variance of the normalized Boston\n",
    "data, how many principal components (i.e., what dimensionality) should we use?"
   ]
  },
  {
   "cell_type": "markdown",
   "metadata": {},
   "source": [
    "### ii. (1 point)"
   ]
  },
  {
   "cell_type": "markdown",
   "metadata": {},
   "source": [
    "If we use two principal components of the normalized Boston data, how\n",
    "much (what fraction or percentage) of the total variance do we capture?"
   ]
  },
  {
   "cell_type": "markdown",
   "metadata": {},
   "source": [
    "## d (4 points)"
   ]
  },
  {
   "cell_type": "markdown",
   "metadata": {},
   "source": [
    "Use scikit-learn’s implementation of $k$-means to find 2 clusters in the two-dimensional, PCA-transformed normalized Boston data set (the input to k-means should\n",
    "be the data that was plotted in part 4e). Plot the 2-dimensional data with colors\n",
    "corresponding to predicted cluster membership for each point. On the same plot, also\n",
    "plot the two means found by the $k$-means algorithm in a different color than the colors\n",
    "used for the data."
   ]
  },
  {
   "cell_type": "markdown",
   "metadata": {},
   "source": [
    "## e (4 points)"
   ]
  },
  {
   "cell_type": "markdown",
   "metadata": {},
   "source": [
    "Use scikit-learn’s implementation of DBSCAN to find clusters in the two-\n",
    "dimensional, PCA-transformed normalized Boston data set (the input to DBSCAN\n",
    "should be the data that was plotted in part ). Plot the 2-dimensional data with colors\n",
    "corresponding to predicted cluster membership for each point. Noise points should be\n",
    "colored differently than any of the clusters. How many clusters were found by DBSCAN?"
   ]
  },
  {
   "cell_type": "markdown",
   "metadata": {},
   "source": [
    "**Acknowledgements**: Homework problems adapted from assignments of Veronika Strnadova-Neeley."
   ]
  }
 ],
 "metadata": {
  "interpreter": {
   "hash": "00684e69adb826331b650ae4febdd10eef3cfe83175fe79e1892054a99ff83e7"
  },
  "kernelspec": {
   "display_name": "Python 3.8.12 ('csci347')",
   "language": "python",
   "name": "python3"
  },
  "language_info": {
   "codemirror_mode": {
    "name": "ipython",
    "version": 3
   },
   "file_extension": ".py",
   "mimetype": "text/x-python",
   "name": "python",
   "nbconvert_exporter": "python",
   "pygments_lexer": "ipython3",
   "version": "3.8.12"
  },
  "orig_nbformat": 4
 },
 "nbformat": 4,
 "nbformat_minor": 2
}
