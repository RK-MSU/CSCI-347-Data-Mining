{
    "cells": [
        {
            "cell_type": "markdown",
            "metadata": {
                "id": "fkaF2f-HV_DW"
            },
            "source": [
                "River Kelly\n",
                "\n",
                "Kyler Gappa\n",
                "\n",
                "CSCI-347\n",
                "\n",
                "Project 03: Dimensinality Reduction and Clustering"
            ]
        },
        {
            "cell_type": "markdown",
            "metadata": {
                "id": "W74kGwFQV_DZ"
            },
            "source": [
                "This project may be completed individually or with group of up to size three. Turn in the code\n",
                "and written responses in both Brightspace and Gradescope.\n",
                "\n",
                "Choose a data set that you are interested in from the UCI Machine Learning Repository that has\n",
                "at least five numerical attributes, and that you believe may contain clusters. Only use the numerical\n",
                "attributes for this project. Note: if you are planning to complete the extra credit portion of this\n",
                "project, you will need to use a data set that has class labels (ground truth cluster labels), i.e., a\n",
                "classification data set, in order to compute the accuracy of the clustering. If you would like to use\n",
                "a data set from a different source, please discuss this with me."
            ]
        },
        {
            "cell_type": "markdown",
            "metadata": {
                "id": "uR5w1P2rV_Da"
            },
            "source": [
                "# Part 1: Think about the data"
            ]
        },
        {
            "cell_type": "markdown",
            "source": [
                "  This data is interesting because it takes a unique approach to language analysis. An understanding of writing could help us recognise and decipher currently unreadable text. There are six numerical and zero categorical attributes. The repository says that there are no missing attributes in the dataset so no extra techniques will be used unless missing values are found. we expect that there will be a few clusters due to a few different reasons. There is a chance for clusters for each number (i.e. all 4's will form a cluster) and a chance for clusters of every number from people that write similarly. If clusters exist then we can use the range of values that fit within the cluster to help identify similar letters in the future. We expect for there to be four to ten clusters as there a few numbers that may have similar shapes or may have consistent shapes that are mathmatically similar. We expect there to be some clusters that are differing sizes as there are some shapes that more numbers fall into and that should result in a larger cluster (i.e. 6, 8, 9 vs 1, 7)."
            ],
            "metadata": {
                "id": "MNsDwGiOA6_T"
            }
        },
        {
            "cell_type": "markdown",
            "metadata": {
                "id": "bin9rArIV_Db"
            },
            "source": [
                "# Part 2: Write Python code for clustering"
            ]
        },
        {
            "cell_type": "markdown",
            "metadata": {
                "id": "bhNjKB87V_Dc"
            },
            "source": [
                "Write the following functions in Python. You may use scikit-learn or other packages to check\n",
                "the correctness of your implementation, but you may not use any existing clustering algorithm\n",
                "implementation in your code."
            ]
        },
        {
            "cell_type": "code",
            "execution_count": null,
            "metadata": {
                "id": "T1XQbo1pV_Dc"
            },
            "outputs": [],
            "source": [
                "import numpy as np"
            ]
        },
        {
            "cell_type": "markdown",
            "metadata": {
                "id": "D2t7UHR3V_Dd"
            },
            "source": [
                "## 1. (10 points) *k*-means Clustering Algorithm"
            ]
        },
        {
            "cell_type": "markdown",
            "metadata": {
                "id": "KTpjn0QMV_De"
            },
            "source": [
                "A function that implements the $k$-means clustering\n",
                "algorithm. The function should take a data matrix, a number of clusters $k$,\n",
                "and a convergence parameter $\\epsilon$, as input, and return the\n",
                "representatives (means) as well as the clusters found using $k$-means. If\n",
                "the distance is the same between a point and more than one representative\n",
                "(mean), then assign the point to the mean corresponding to the cluster with\n",
                "the lowest index."
            ]
        },
        {
            "cell_type": "code",
            "execution_count": null,
            "metadata": {
                "id": "Ufy1c-iFV_Df"
            },
            "outputs": [],
            "source": [
                "# k-means clustering algorithm\n",
                "def kMeanClustering(data, k_cluster: int, convergence):\n",
                "    pass"
            ]
        },
        {
            "cell_type": "markdown",
            "metadata": {
                "id": "6XvVGTToV_Df"
            },
            "source": [
                "## 2. (10 points) DBSCAN Clustering Algorithm"
            ]
        },
        {
            "cell_type": "markdown",
            "metadata": {
                "id": "5tRZu6o_V_Dg"
            },
            "source": [
                "A function that implements the DBSCAN clustering\n",
                "algorithm. The function should take a data matrix and the parameters\n",
                "*minpts* and $\\epsilon$, as input, and return the clusters found using\n",
                "DBSCAN, and for each data point a label of core, border, or noise point."
            ]
        },
        {
            "cell_type": "markdown",
            "metadata": {
                "id": "OXsSEouNV_Dg"
            },
            "source": [
                "## 3. (Extra Credit - 5 points) Precision of Clustering"
            ]
        },
        {
            "cell_type": "markdown",
            "metadata": {
                "id": "LsQ8cy3GV_Dg"
            },
            "source": [
                "A function that computes the precision of a\n",
                "clustering. The function should take a list of true cluster labels and a\n",
                "list of the cluster labels returned by some clustering algorithm, and return\n",
                "the precision of the clustering."
            ]
        },
        {
            "cell_type": "markdown",
            "metadata": {
                "id": "CFmzM0OzV_Dh"
            },
            "source": [
                "# Part 3: Analyze your data"
            ]
        },
        {
            "cell_type": "markdown",
            "metadata": {
                "id": "2vonj-1lV_Dh"
            },
            "source": [
                "## 1. (4 points)"
            ]
        },
        {
            "cell_type": "markdown",
            "metadata": {
                "id": "b9QYVgJVV_Dh"
            },
            "source": [
                "Use sklearn's PCA implementation to linearly transform the\n",
                "data to two dimensions. Create a scatter plot of the data, with the $x$-axis\n",
                "corresponding to coordinates of the data along the first principal\n",
                "component, and the $y$-axis corresponding to coordinates of the data along\n",
                "the second principal component. Does it look like there are clusters in\n",
                "these two dimensions? If so, how many would you say there are?"
            ]
        },
        {
            "cell_type": "markdown",
            "metadata": {
                "id": "-xUdq5zVV_Di"
            },
            "source": [
                "## 2. (3 points)"
            ]
        },
        {
            "cell_type": "markdown",
            "metadata": {
                "id": "oEGT5QQ0V_Di"
            },
            "source": [
                "Use sklearn's PCA implementation to linearly transform the\n",
                "data, without specifying the number of components to use. Create a plot with\n",
                "$r$, the number of components (i.e., dimensionality), on the $x$-axis, and\n",
                "$f(r)$, the fraction of total variance captured in the first $r$ principal\n",
                "components, on the $y$-axis. Based on this plot, choose a number of\n",
                "principal components to reduce the dimensionality of the data. Report how\n",
                "many principal components will be used as well as the faction of total\n",
                "variance captured using this many components."
            ]
        },
        {
            "cell_type": "markdown",
            "metadata": {
                "id": "q68KBWEEV_Dj"
            },
            "source": [
                "## 3. (5 points)"
            ]
        },
        {
            "cell_type": "markdown",
            "metadata": {
                "id": "ezOzxo3rV_Dj"
            },
            "source": [
                "For both the original and the reduced-dimensionality data\n",
                "obtained using PCA in question 3, do the\n",
                "following: Experiment with a range of values for the number of clusters,\n",
                "$k$, that you pass as input to the $k$-means function, to find clusters in\n",
                "the chosen data set. Use at least 5 different values of $k$. For each value\n",
                "of $k$, report the value of the objective function for that choice of $k$."
            ]
        },
        {
            "cell_type": "markdown",
            "metadata": {
                "id": "DvvehwZLV_Dj"
            },
            "source": [
                "## 4. (5 points)"
            ]
        },
        {
            "cell_type": "markdown",
            "metadata": {
                "id": "lhKb3cShV_Dk"
            },
            "source": [
                "For both the original and the reduced-dimensionality data\n",
                "obtained using PCA in question 3, do the following:\n",
                "Experiment with a range of values for the *minpts* and $\\epsilon$ input\n",
                "parameters to the DBSCAN function to find clusters in the chosen data set.\n",
                "First, keep $\\epsilon$ fixed and try out a range of different values for\n",
                "*minpts*. Then keep *minpts* fixed, and try a range of values for\n",
                "$\\epsilon$. Use at least 5 values of $\\epsilon$ and at least 5 values of\n",
                "*minpts*. Report the number of clusters found for each (*minpts*,\n",
                "$\\epsilon$) pair tested."
            ]
        },
        {
            "cell_type": "markdown",
            "metadata": {
                "id": "EimFxiorV_Dk"
            },
            "source": [
                "## 5. (Extra credit - 3 points)"
            ]
        },
        {
            "cell_type": "markdown",
            "metadata": {
                "id": "o5sXosGLV_Dk"
            },
            "source": [
                "Create a plot of clustering precision for\n",
                "each value of $k$ used in question 3, each value of\n",
                "$\\epsilon$ used in question 3, and each value of\n",
                "*minpts* used in question 3, for both the original\n",
                "and reduced-dimensionality data."
            ]
        },
        {
            "cell_type": "markdown",
            "metadata": {
                "id": "yjCVTa__V_Dk"
            },
            "source": [
                "# Tips and Acknowledgements"
            ]
        },
        {
            "cell_type": "markdown",
            "metadata": {
                "id": "kQjklTosV_Dl"
            },
            "source": [
                "Make sure to submit your answer as a PDF on Gradscope and Brightspace. Make sure\n",
                "to show your work. Include any code snippets you used to generate an answer,\n",
                "using comments in the code to clearly indicate which problem corresponds to\n",
                "which code."
            ]
        },
        {
            "cell_type": "markdown",
            "metadata": {
                "id": "PHDraLpHV_Dl"
            },
            "source": [
                "**Acknowledgements**: Project adapted from assignments of Veronika Strnadova-Neeley."
            ]
        }
    ],
    "metadata": {
        "interpreter": {
            "hash": "00684e69adb826331b650ae4febdd10eef3cfe83175fe79e1892054a99ff83e7"
        },
        "kernelspec": {
            "display_name": "Python 3.8.12 ('csci347')",
            "language": "python",
            "name": "python3"
        },
        "language_info": {
            "codemirror_mode": {
                "name": "ipython",
                "version": 3
            },
            "file_extension": ".py",
            "mimetype": "text/x-python",
            "name": "python",
            "nbconvert_exporter": "python",
            "pygments_lexer": "ipython3",
            "version": "3.8.12"
        },
        "orig_nbformat": 4,
        "colab": {
            "name": "project-03.ipynb",
            "provenance": [],
            "collapsed_sections": []
        }
    },
    "nbformat": 4,
    "nbformat_minor": 0
}
