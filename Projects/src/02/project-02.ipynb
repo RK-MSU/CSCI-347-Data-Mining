{
  "cells": [
    {
      "cell_type": "markdown",
      "metadata": {
        "id": "a2CH4tViKRJo"
      },
      "source": [
        "River Kelly & Kyler Gappa\n",
        "\n",
        "CSCI-347: Data Mining\n",
        "\n",
        "Project 02: Exploring Graph Data"
      ]
    },
    {
      "cell_type": "markdown",
      "metadata": {
        "id": "q9kiLfK0KRJp"
      },
      "source": [
        "Partner work is allowed on this project.\n",
        "\n",
        "Choose a data set that you are interested in from one of the following sources:\n",
        "- SNAP collection: https://snap.stanford.edu/data\n",
        "- Network Repository: http://networkrepository.com/index.php\n",
        "\n",
        "Run all the analysis in this project on the largest connected component of the graph. Note that many of these datasets are quite large. If analyzing the data its taking too long, you may pre-process it by taking a sample of the graph first, and then extracting the largest connected component, to get the graph down to a manageable size."
      ]
    },
    {
      "cell_type": "markdown",
      "source": [
        "# Python Setup Code"
      ],
      "metadata": {
        "id": "D4NXxK1My7wH"
      }
    },
    {
      "cell_type": "code",
      "source": [
        "# import libraries\n",
        "import numpy as np\n",
        "import pandas as pd\n",
        "import networkx as nx\n",
        "import matplotlib.pyplot as plt\n",
        "import urllib.request\n",
        "import io\n",
        "import gzip\n",
        "import random as rd"
      ],
      "metadata": {
        "id": "ijaXUQN8ywPB"
      },
      "execution_count": null,
      "outputs": []
    },
    {
      "cell_type": "code",
      "execution_count": null,
      "metadata": {
        "id": "Wyl4utDQKRJr"
      },
      "outputs": [],
      "source": [
        "DATA_URL = 'https://snap.stanford.edu/data/facebook_combined.txt.gz'"
      ]
    },
    {
      "cell_type": "code",
      "source": [
        "def getFileData(url: str) -> list:\n",
        "    response = urllib.request.urlopen(url)\n",
        "    compressed_file = io.BytesIO(response.read())\n",
        "    decompressed_file = gzip.GzipFile(fileobj=compressed_file)\n",
        "    # read file to edges list\n",
        "    edges: list = list()\n",
        "    while True:\n",
        "        line = decompressed_file.readline()\n",
        "        if not line: break # no more lines to read\n",
        "        # parse line string\n",
        "        line = str(line.decode(\"utf-8\")).strip()\n",
        "        edge_str_data = line.split(' ')\n",
        "        point_1 = int(edge_str_data[0])\n",
        "        point_2 = int(edge_str_data[1])\n",
        "        edge = (point_1, point_2)\n",
        "        edges.append(edge)\n",
        "    decompressed_file.close()\n",
        "    compressed_file.close()\n",
        "    return edges"
      ],
      "metadata": {
        "id": "_HRYviykzAm2"
      },
      "execution_count": null,
      "outputs": []
    },
    {
      "cell_type": "markdown",
      "metadata": {
        "id": "by2XvnjTKRJp"
      },
      "source": [
        "# Part 1: Think about the data"
      ]
    },
    {
      "cell_type": "markdown",
      "source": [
        "This data set is interesting because it shows the connectivity of each person social circle. This can lead to a better understanding of how people with different interests connect to each other. We expect that nodes with a high level of centrality to be people with a large amount of popular interests. These people could then be good to advertise around as they are most likely to influence a large population. We did not take a sample of the elements from the data set."
      ],
      "metadata": {
        "id": "AsfymGEbKoAz"
      }
    },
    {
      "cell_type": "markdown",
      "metadata": {
        "id": "F18VKLA3KRJq"
      },
      "source": [
        "# Part 2: Write Python code for graph analysis"
      ]
    },
    {
      "cell_type": "markdown",
      "metadata": {
        "id": "yJWJ7CgCKRJq"
      },
      "source": [
        "Write the following functions in Python. You may assume that the input graph is unweighted,\n",
        "undirected, and simple – has no parallel edges and no loops. Functions provided by networkx can\n",
        "be used within your code, as long as the function does not perform the same task as what you\n",
        "are being asked to implement. For example, you cannot use networkx’s betweenness centrality\n",
        "function within your own betweenness centrality function, but you can use networkx’s functions for\n",
        "finding shortest paths. You may also assume that vertices are represented as integers (so the pair\n",
        "(1,3) indicates that there is an edge between vertex 1 and 3, for example)."
      ]
    },
    {
      "cell_type": "markdown",
      "metadata": {
        "id": "Hw29Huo0KRJs"
      },
      "source": [
        "## 1. (5 points) Number of vertices"
      ]
    },
    {
      "cell_type": "markdown",
      "metadata": {
        "id": "Ous7by7_KRJs"
      },
      "source": [
        "A function that takes the following input: a list of edges representing a graph, where each edge is a pair. The output should be the number of vertices."
      ]
    },
    {
      "cell_type": "code",
      "execution_count": null,
      "metadata": {
        "id": "SH-EH41EKRJt"
      },
      "outputs": [],
      "source": [
        "# numberOfVertices() - returns the number of vertices\n",
        "# params: \n",
        "#   - edges: list\n",
        "def numberOfVertices(edges: list):\n",
        "    # list to maintain the individual vertices\n",
        "    vertices_list = list()\n",
        "    # loop through list of edges\n",
        "    for edge in edges:\n",
        "        # loop through each vertex in the edge\n",
        "        for vertex in edge:\n",
        "            # check if vertex has already been accounted for in the list\n",
        "            if vertex not in vertices_list:\n",
        "                # add the vertex to the list of all vertices\n",
        "                vertices_list.append(vertex)\n",
        "    # return the length of the vertices list (i.e. the total number of vertices)\n",
        "    return len(vertices_list)"
      ]
    },
    {
      "cell_type": "markdown",
      "metadata": {
        "id": "ZoOASledKRJt"
      },
      "source": [
        "## 2. (5 points) Degree of a vertex"
      ]
    },
    {
      "cell_type": "markdown",
      "metadata": {
        "id": "0B5-0xw6KRJt"
      },
      "source": [
        "A function that takes the following input: a list of edges representing a graph, where each edge is a pair, and a vertex index that is an integer. The output should be the degree of the input vertex."
      ]
    },
    {
      "cell_type": "code",
      "execution_count": null,
      "metadata": {
        "id": "X7D9iIvsKRJt"
      },
      "outputs": [],
      "source": [
        "# vertexDegree() - Computes the degree of a given vertex\n",
        "# params:\n",
        "#   - edges: list \n",
        "#   - vertex: int\n",
        "def vertexDegree(edges: list, vertex: int, returnAdjacentVertexList: bool = False):\n",
        "    # list of adjacent verticies\n",
        "    adjacent_vertices_list = list()\n",
        "    # loop through the list of edges (i.e list of vertice \n",
        "    # pairs that make up the edges)\n",
        "    for edge in edges:\n",
        "        # does the edge contain the vertex of interest\n",
        "        if vertex not in edge:\n",
        "            # skip this edge, not vertices of interes\n",
        "            continue\n",
        "        # this edge does contain a vertice of interest.\n",
        "        # lets loop through each of the vertices that make up the\n",
        "        # edge and see if we need to count it\n",
        "        for edge_vertex in edge:\n",
        "            # is this edge_vertex the vertex of interest\n",
        "            if edge_vertex == vertex:\n",
        "                # it is, so lets skip it\n",
        "                continue\n",
        "            # have we already counted this vertice\n",
        "            if edge_vertex in adjacent_vertices_list:\n",
        "                # we have, so lets skip it\n",
        "                continue\n",
        "            # append the vertice to the list of adjacent vertices\n",
        "            adjacent_vertices_list.append(edge_vertex)\n",
        "    if returnAdjacentVertexList is True:\n",
        "        return adjacent_vertices_list\n",
        "    return len(adjacent_vertices_list)"
      ]
    },
    {
      "cell_type": "markdown",
      "metadata": {
        "id": "vxgPC81lKRJu"
      },
      "source": [
        "## 3. (5 points) Clustering coefficient of a vertex"
      ]
    },
    {
      "cell_type": "markdown",
      "metadata": {
        "id": "R16EAx9VKRJu"
      },
      "source": [
        "A function that takes the following input: a list of edges representing a graph, where each edge is a pair, and a vertex index that is an integer. The output should be the clustering coefficient of the input vertex."
      ]
    },
    {
      "cell_type": "code",
      "execution_count": null,
      "metadata": {
        "id": "YZrdXUQPKRJu"
      },
      "outputs": [],
      "source": [
        "def vertexClusteringCoefficient(edges: list, vertex: int):\n",
        "    adjacent_vertices_list = vertexDegree(edges=edges, vertex=vertex, returnAdjacentVertexList=True)\n",
        "    neighbor_edge_dict = dict()\n",
        "    edges_amoung_neighbors = list()\n",
        "    for edge in edges:\n",
        "        p1 = edge[0]\n",
        "        p2 = edge[1]\n",
        "        if p1 not in adjacent_vertices_list or p2 not in adjacent_vertices_list: continue\n",
        "        if p2 in neighbor_edge_dict:\n",
        "            if p1 not in neighbor_edge_dict[p2]:\n",
        "                neighbor_edge_dict[p2].append(p1)\n",
        "            continue\n",
        "        if p1 not in neighbor_edge_dict:\n",
        "            neighbor_edge_dict[p1] = list()\n",
        "        if p2 not in neighbor_edge_dict[p1]:\n",
        "            neighbor_edge_dict[p1].append(p2)\n",
        "        edges_amoung_neighbors.append(edge)\n",
        "    num_edges_amoung_neighbors = len(edges_amoung_neighbors)\n",
        "    num_of_neighbor_vertices = len(adjacent_vertices_list)\n",
        "    answer = 0\n",
        "    # avoid division by 0\n",
        "    try:\n",
        "        num_possible_edges = (num_of_neighbor_vertices * (num_of_neighbor_vertices - 1) ) / 2\n",
        "        answer = num_edges_amoung_neighbors / num_possible_edges\n",
        "    except:\n",
        "        pass\n",
        "    return answer"
      ]
    },
    {
      "cell_type": "markdown",
      "metadata": {
        "id": "4lj2lT71KRJu"
      },
      "source": [
        "## 4. (5 points) Betweenness centrality of a vertex"
      ]
    },
    {
      "cell_type": "markdown",
      "metadata": {
        "id": "x3lybk-jKRJu"
      },
      "source": [
        "A function that takes the following input: a list of edges representing a graph, where each edge is a pair, and a vertex index that is an integer. The output should be the betweenness centrality of the input vertex."
      ]
    },
    {
      "cell_type": "code",
      "execution_count": null,
      "metadata": {
        "id": "XqXAZQonKRJv"
      },
      "outputs": [],
      "source": [
        "shortest_path_dict = dict()\n",
        "shortest_path_len_dict = dict()\n",
        "def getShortestPath(betweenness_G, v1, v2):\n",
        "    global shortest_path_dict\n",
        "    lower_v = v1\n",
        "    greater_v = v2\n",
        "    if v1 <= v2:\n",
        "        lower_v = v1\n",
        "        greater_v = v2\n",
        "    else:\n",
        "        lower_v = v2\n",
        "        greater_v = v1\n",
        "\n",
        "    if lower_v in shortest_path_dict and greater_v in shortest_path_dict[lower_v]:\n",
        "        return shortest_path_dict[lower_v][greater_v]\n",
        "    elif greater_v in shortest_path_dict and lower_v in shortest_path_dict[greater_v]:\n",
        "        return shortest_path_dict[greater_v][lower_v]\n",
        "    else:\n",
        "        shortest_path = nx.shortest_path(betweenness_G, lower_v, greater_v)\n",
        "        shortest_path_dict[lower_v][greater_v] = shortest_path\n",
        "        return shortest_path\n",
        "\n",
        "def getShortestPathLength(betweenness_G, v1, v2):\n",
        "    global shortest_path_len_dict\n",
        "    lower_v = v1\n",
        "    greater_v = v2\n",
        "    if v1 <= v2:\n",
        "        lower_v = v1\n",
        "        greater_v = v2\n",
        "    else:\n",
        "        lower_v = v2\n",
        "        greater_v = v1\n",
        "\n",
        "    if lower_v in shortest_path_len_dict and greater_v in shortest_path_len_dict[lower_v]:\n",
        "        return shortest_path_len_dict[lower_v][greater_v]\n",
        "    elif greater_v in shortest_path_len_dict and lower_v in shortest_path_len_dict[greater_v]:\n",
        "        return shortest_path_len_dict[greater_v][lower_v]\n",
        "    else:\n",
        "        shortest_path_len = nx.shortest_path_length(betweenness_G, lower_v, greater_v)\n",
        "        shortest_path_len_dict[lower_v][greater_v] = shortest_path_len\n",
        "        return shortest_path_len\n",
        "\n",
        "betweenness_vertices = None\n",
        "betweenness_G = None\n",
        "\n",
        "def vertexBetweennessCentrality(edges: list, source_vertex: int):\n",
        "    global betweenness_vertices\n",
        "    global betweenness_G\n",
        "    if betweenness_vertices is None:\n",
        "        betweenness_vertices = list()\n",
        "        betweenness_G = nx.Graph()\n",
        "        for edge in edges:\n",
        "            betweenness_vertices.append(edge[0])\n",
        "            betweenness_vertices.append(edge[1])\n",
        "            betweenness_G.add_edge(edge[0], edge[1])\n",
        "        betweenness_vertices = set(betweenness_vertices)\n",
        "    vertices = betweenness_vertices\n",
        "    already_compared = dict()\n",
        "    def hasBeenCompared(v1, v2):\n",
        "        if v1 not in already_compared: already_compared[v1] = list()\n",
        "        if v2 not in already_compared[v1]:\n",
        "            already_compared[v1].append(v2)\n",
        "            return False\n",
        "        if v2 in already_compared:\n",
        "            if v1 not in already_compared[v2]:\n",
        "                already_compared[v2].append(v1)\n",
        "                return False\n",
        "        return True\n",
        "\n",
        "    answer = 0\n",
        "    for vertex1 in vertices:\n",
        "        if vertex1 == source_vertex: continue\n",
        "        for vertex2 in vertices:\n",
        "            if vertex2 == source_vertex: continue\n",
        "            if hasBeenCompared(vertex1, vertex2): continue\n",
        "            sub_top = 0\n",
        "            sub_bottom = 0\n",
        "            sub_answer = 0\n",
        "            try:\n",
        "                shortest_path = getShortestPath(betweenness_G, vertex1, vertex2)\n",
        "                shortest_path_len = getShortestPathLength(betweenness_G, vertex1, vertex2)\n",
        "                # shortest_path = nx.shortest_path(G, vertex1, vertex2)\n",
        "                # shortest_path_len = nx.shortest_path_length(G, vertex1, vertex2)\n",
        "                if source_vertex in shortest_path:\n",
        "                    sub_top += 1\n",
        "                if shortest_path_len > 0:\n",
        "                    sub_bottom += 1\n",
        "                sub_answer = sub_top / sub_bottom\n",
        "            except:\n",
        "                continue\n",
        "            answer += sub_answer\n",
        "\n",
        "    return answer"
      ]
    },
    {
      "cell_type": "markdown",
      "metadata": {
        "id": "-UB7zmqAKRJv"
      },
      "source": [
        "## 5. (5 points) Adjacency matrix"
      ]
    },
    {
      "cell_type": "markdown",
      "metadata": {
        "id": "ZbRdJSnUKRJv"
      },
      "source": [
        "A function that takes the following input: a list of edges representing a graph, where each edge is a pair. The output should be the dense adjacency matrix of the graph."
      ]
    },
    {
      "cell_type": "code",
      "execution_count": null,
      "metadata": {
        "id": "9l3rJdSKKRJw"
      },
      "outputs": [],
      "source": [
        "def adjacencyMatrix(edges: list):\n",
        "    num_of_vertices = numberOfVertices(edges=edges)\n",
        "    m = np.ndarray(shape=(num_of_vertices, num_of_vertices), dtype=int) # output matrix\n",
        "    # zero values\n",
        "    for row in range(m.shape[0]):\n",
        "        m[row] = np.array([0] * m.shape[1])\n",
        "    for edge in edges:\n",
        "        m[edge[0] - 1][edge[1] - 1] = 1\n",
        "    return m"
      ]
    },
    {
      "cell_type": "markdown",
      "metadata": {
        "id": "YFD2FTO-KRJw"
      },
      "source": [
        "## 6. (10 points) Prestige centrality of vertices"
      ]
    },
    {
      "cell_type": "markdown",
      "metadata": {
        "id": "PkwjLUr8KRJw"
      },
      "source": [
        "A function that takes the following input: a dense adjacency matrix representation of a graph. The output should be the prestige values for each vertex in the graph. (Note, you may NOT use linear algebra functions in numpy, spicy, or any other library to find eigenvectors but you MAY use linear algebra functions for transpose, matrix-vector multiplication, computing the dot product, the norm, and argmax.)"
      ]
    },
    {
      "cell_type": "code",
      "execution_count": null,
      "metadata": {
        "id": "grG6UPvaKRJw"
      },
      "outputs": [],
      "source": [
        "def prestige_centrality(m: np.matrix, max_iter = 100000):\n",
        "    # validate matrix data type\n",
        "    if not isinstance(m, np.matrix):\n",
        "        raise TypeError(\"matrix `m` must be type `np.matrix`\")\n",
        "    # transpose matrix\n",
        "    a = m.transpose()\n",
        "    # a = m\n",
        "\n",
        "    p_0 = np.array([1] * a.shape[0])\n",
        "    p_arr = list()\n",
        "    p_arr.append(p_0)\n",
        "\n",
        "\n",
        "    # power iteration\n",
        "    iter_count = 0\n",
        "    while True:\n",
        "        iter_count += 1\n",
        "        if iter_count > max_iter: break\n",
        "        p_j = [0] * a.shape[0]\n",
        "        p_i = p_arr[len(p_arr) - 1]\n",
        "        j_index = 0\n",
        "        for i in a:\n",
        "            a_i_row = np.array(i).flatten()\n",
        "            p_j[j_index] = np.dot(a_i_row, p_i)\n",
        "            j_index += 1\n",
        "        # normalize the vector\n",
        "        p_j = p_j / np.amax(p_j)\n",
        "        p_arr.append(p_j)\n",
        "        converged = True\n",
        "        for p_j_index in range(len(p_j)):\n",
        "            j_val = p_j[p_j_index]\n",
        "            i_val = p_i[p_j_index]\n",
        "            i_j_diff = abs(j_val - i_val)\n",
        "            if i_j_diff > 0.00001:\n",
        "                converged = False\n",
        "                break\n",
        "        if converged is True:\n",
        "            break\n",
        "\n",
        "    return p_arr[len(p_arr) - 1]"
      ]
    },
    {
      "cell_type": "markdown",
      "metadata": {
        "id": "Ti-dahIAKRJw"
      },
      "source": [
        "# Part 3: Analyze the graph data"
      ]
    },
    {
      "cell_type": "markdown",
      "metadata": {
        "id": "zKfHvlhPKRJw"
      },
      "source": [
        "Using tables or figures as appropriate, report the following. You may treat the graph as a simple undirected, unweighted graph. You may use networkx functions in all of Part 3, but you are encouraged to test out your functions from Part 2 on real-world data."
      ]
    },
    {
      "cell_type": "markdown",
      "source": [
        "## Code Setup"
      ],
      "metadata": {
        "id": "KQ_IDrxLex0h"
      }
    },
    {
      "cell_type": "markdown",
      "source": [
        "Get list of edges from the real world data."
      ],
      "metadata": {
        "id": "dIknHgOoe76x"
      }
    },
    {
      "cell_type": "code",
      "source": [
        "edges = getFileData(DATA_URL)"
      ],
      "metadata": {
        "id": "AFIpqwtCVwhc"
      },
      "execution_count": null,
      "outputs": []
    },
    {
      "cell_type": "markdown",
      "source": [
        "Create a NetworkX Graph from the real world data."
      ],
      "metadata": {
        "id": "uz1yBxiQe-g7"
      }
    },
    {
      "cell_type": "code",
      "source": [
        "# G will be the complete graph of all the edged from the real world data.\n",
        "G = nx.Graph()\n",
        "# add edges to the graph\n",
        "for edge in edges: G.add_edge(edge[0], edge[1])\n",
        "# Show graph info\n",
        "nx.info(G)"
      ],
      "metadata": {
        "colab": {
          "base_uri": "https://localhost:8080/",
          "height": 35
        },
        "id": "P8wOP8RBgHxO",
        "outputId": "a33b171f-7afe-4dd6-de32-8de436c95fb3"
      },
      "execution_count": null,
      "outputs": [
        {
          "output_type": "execute_result",
          "data": {
            "text/plain": [
              "'Graph with 4039 nodes and 88234 edges'"
            ],
            "application/vnd.google.colaboratory.intrinsic+json": {
              "type": "string"
            }
          },
          "metadata": {},
          "execution_count": 58
        }
      ]
    },
    {
      "cell_type": "markdown",
      "source": [
        "### Helper Functions"
      ],
      "metadata": {
        "id": "bb4NQipHjPP2"
      }
    },
    {
      "cell_type": "markdown",
      "source": [
        "The following are some common methods that will be used."
      ],
      "metadata": {
        "id": "A7K8ZUjHjSWi"
      }
    },
    {
      "cell_type": "code",
      "source": [
        "# function to sort a dictionary by its values\n",
        "def sortDictionaryByValues(d: dict, ascending: bool = True):\n",
        "    # validate the input `d` is type dictionary\n",
        "    if not isinstance(d, dict):\n",
        "        raise TypeError(\"`d` must be type `dict`.\")\n",
        "    # return the sorted dictionary\n",
        "    return {k: v for k, v in sorted(d.items(), key=lambda item: item[1], reverse=ascending)}"
      ],
      "metadata": {
        "id": "BampKSMSj2v0"
      },
      "execution_count": null,
      "outputs": []
    },
    {
      "cell_type": "code",
      "source": [
        "# this method returns a dictionary containing the first elements\n",
        "# through a given limit. (i.e. elements 0-n)\n",
        "def limitNumDictionaryElements(d: dict, limit: int = 10):\n",
        "    # validate the input `d` is type dictionary\n",
        "    if not isinstance(d, dict):\n",
        "        raise TypeError(\"`d` must be type `dict`.\")\n",
        "    # return the limited dictionary\n",
        "    return {k: v for k, v in list(d.items())[:limit]}"
      ],
      "metadata": {
        "id": "hzQvU44fk4uZ"
      },
      "execution_count": null,
      "outputs": []
    },
    {
      "cell_type": "code",
      "source": [
        "# This method combines sortDictionaryByValues() and limitNumDictionaryElements()\n",
        "def topSortedDict(d: dict, ascending: bool = True, limit: int = 10):\n",
        "    # validate the input `d` is type dictionary\n",
        "    if not isinstance(d, dict):\n",
        "        raise TypeError(\"`d` must be type `dict`.\")\n",
        "    return limitNumDictionaryElements(sortDictionaryByValues(d, ascending), limit)"
      ],
      "metadata": {
        "id": "OhIavFKpl1OB"
      },
      "execution_count": null,
      "outputs": []
    },
    {
      "cell_type": "code",
      "source": [
        "# converts a dictionary to a sorted list where each\n",
        "# elements of the list is a pair of the key-values\n",
        "# from the provided dictionary\n",
        "def convertDictToSortedList(d: dict):\n",
        "    return sorted(d.items(), key=lambda item: item[1], reverse=True)"
      ],
      "metadata": {
        "id": "oAEdc6XRnDqO"
      },
      "execution_count": null,
      "outputs": []
    },
    {
      "cell_type": "markdown",
      "metadata": {
        "id": "DXxcuHmlKRJx"
      },
      "source": [
        "## 1. (5 points) Graph Visualization"
      ]
    },
    {
      "cell_type": "markdown",
      "metadata": {
        "id": "QPtyVxC9KRJx"
      },
      "source": [
        "Produce a visualization of the graph (or graph sample that you used)."
      ]
    },
    {
      "cell_type": "code",
      "source": [
        "nx.draw_networkx(G, with_labels=False, node_size=5, width=1)"
      ],
      "metadata": {
        "id": "HVk5GNkEONwr",
        "colab": {
          "base_uri": "https://localhost:8080/",
          "height": 248
        },
        "outputId": "e9d58bc1-5fd2-49ac-df36-8ce629eb7ba5"
      },
      "execution_count": null,
      "outputs": [
        {
          "output_type": "display_data",
          "data": {
            "text/plain": [
              "<Figure size 432x288 with 1 Axes>"
            ],
            "image/png": "[encoded data removed]"
          },
          "metadata": {}
        }
      ]
    },
    {
      "cell_type": "markdown",
      "metadata": {
        "id": "nJ2wf7FPKRJx"
      },
      "source": [
        "## 2. (3 points) Top 10 Highest Degree Nodes"
      ]
    },
    {
      "cell_type": "markdown",
      "metadata": {
        "id": "CAiq7MGtKRJx"
      },
      "source": [
        "Find the 10 nodes with the highest degree."
      ]
    },
    {
      "cell_type": "code",
      "source": [
        "verticies_degrees_dict = dict()\n",
        "# calculate the degree for each vertex\n",
        "for v in list(G.nodes):\n",
        "    verticies_degrees_dict[v] = vertexDegree(edges, v)\n",
        "# get the top 10 highest values\n",
        "top_10_highest_degree = topSortedDict(verticies_degrees_dict)"
      ],
      "metadata": {
        "id": "xHdxsIc2TN7T"
      },
      "execution_count": null,
      "outputs": []
    },
    {
      "cell_type": "code",
      "source": [
        "# 10 nodes with the highest degree\n",
        "list(top_10_highest_degree.keys())"
      ],
      "metadata": {
        "id": "PhzNrtdXTPoD",
        "colab": {
          "base_uri": "https://localhost:8080/"
        },
        "outputId": "d69bc4bc-5f86-4657-e862-36322ca2fe6e"
      },
      "execution_count": null,
      "outputs": [
        {
          "output_type": "execute_result",
          "data": {
            "text/plain": [
              "[107, 1684, 1912, 3437, 0, 2543, 2347, 1888, 1800, 1663]"
            ]
          },
          "metadata": {},
          "execution_count": 43
        }
      ]
    },
    {
      "cell_type": "code",
      "source": [
        "# top 10 nodes with the highest degree - (node, degree)\n",
        "convertDictToSortedList(top_10_highest_degree)"
      ],
      "metadata": {
        "id": "xv9fiRXNTRCa",
        "colab": {
          "base_uri": "https://localhost:8080/"
        },
        "outputId": "6fe1c02e-4972-4c57-9e1e-3d5ff55a1fd5"
      },
      "execution_count": null,
      "outputs": [
        {
          "output_type": "execute_result",
          "data": {
            "text/plain": [
              "[(107, 1045),\n",
              " (1684, 792),\n",
              " (1912, 755),\n",
              " (3437, 547),\n",
              " (0, 347),\n",
              " (2543, 294),\n",
              " (2347, 291),\n",
              " (1888, 254),\n",
              " (1800, 245),\n",
              " (1663, 235)]"
            ]
          },
          "metadata": {},
          "execution_count": 44
        }
      ]
    },
    {
      "cell_type": "markdown",
      "metadata": {
        "id": "r-tSaCncKRJx"
      },
      "source": [
        "## 3. (3 points) Top 10 Highest Betweenness Centrality"
      ]
    },
    {
      "cell_type": "markdown",
      "metadata": {
        "id": "K4xMk_iyKRJx"
      },
      "source": [
        "Find the 10 nodes with the highest betweenness centrality."
      ]
    },
    {
      "cell_type": "code",
      "source": [
        "topSortedDict(nx.betweenness_centrality(G, normalized=False))"
      ],
      "metadata": {
        "id": "G7WMPIBsoEoy",
        "colab": {
          "base_uri": "https://localhost:8080/"
        },
        "outputId": "a965d2f4-7df5-44c6-debf-5000af373dfd"
      },
      "execution_count": null,
      "outputs": [
        {
          "output_type": "execute_result",
          "data": {
            "text/plain": [
              "{0: 1192496.1130793944,\n",
              " 58: 687594.983374667,\n",
              " 107: 3916560.144440749,\n",
              " 428: 524164.06777575763,\n",
              " 567: 784996.9055941283,\n",
              " 698: 940024.2464822,\n",
              " 1085: 1214577.7583604807,\n",
              " 1684: 2753286.686908284,\n",
              " 1912: 1868918.212256787,\n",
              " 3437: 1924506.1515714952}"
            ]
          },
          "metadata": {},
          "execution_count": 62
        }
      ]
    },
    {
      "cell_type": "markdown",
      "metadata": {
        "id": "FUGuA2trKRJx"
      },
      "source": [
        "## 4. (3 points) Top 10 Highest Clustering Coefficient"
      ]
    },
    {
      "cell_type": "markdown",
      "metadata": {
        "id": "d7cF_Nx9KRJx"
      },
      "source": [
        "Find the 10 nodes with the highest clustering coefficient. If there are ties, choose 10 to report and explain how the 10 were chosen."
      ]
    },
    {
      "cell_type": "code",
      "source": [
        "verticies_clustering_coefficient_dict = dict()\n",
        "# calculate the clustering coefficient for each vertex\n",
        "for v in list(G.nodes):\n",
        "    verticies_clustering_coefficient_dict[v] = vertexClusteringCoefficient(edges, v)\n",
        "# get the top 10 highest values\n",
        "top_10_highest_clustering_coefficient = topSortedDict(verticies_clustering_coefficient_dict)"
      ],
      "metadata": {
        "id": "7913qf_4orhH"
      },
      "execution_count": null,
      "outputs": []
    },
    {
      "cell_type": "code",
      "source": [
        "# 10 nodes with the greatest clustering coefficient\n",
        "list(top_10_highest_clustering_coefficient.keys())"
      ],
      "metadata": {
        "colab": {
          "base_uri": "https://localhost:8080/"
        },
        "id": "ygTIY1Yso0fD",
        "outputId": "2939dba3-1ef6-4197-9414-2a0b20c58f75"
      },
      "execution_count": null,
      "outputs": [
        {
          "output_type": "execute_result",
          "data": {
            "text/plain": [
              "[32, 33, 35, 42, 44, 46, 47, 52, 63, 70]"
            ]
          },
          "metadata": {},
          "execution_count": 46
        }
      ]
    },
    {
      "cell_type": "code",
      "source": [
        "# top 10 nodes with the clustering coefficient - (node, degree)\n",
        "convertDictToSortedList(top_10_highest_clustering_coefficient)"
      ],
      "metadata": {
        "id": "mqyjKlPgWHhD",
        "colab": {
          "base_uri": "https://localhost:8080/"
        },
        "outputId": "5d790779-1cd9-4e04-ca74-eb774b8f3bc6"
      },
      "execution_count": null,
      "outputs": [
        {
          "output_type": "execute_result",
          "data": {
            "text/plain": [
              "[(32, 1.0),\n",
              " (33, 1.0),\n",
              " (35, 1.0),\n",
              " (42, 1.0),\n",
              " (44, 1.0),\n",
              " (46, 1.0),\n",
              " (47, 1.0),\n",
              " (52, 1.0),\n",
              " (63, 1.0),\n",
              " (70, 1.0)]"
            ]
          },
          "metadata": {},
          "execution_count": 47
        }
      ]
    },
    {
      "cell_type": "markdown",
      "metadata": {
        "id": "m9NHz62RKRJy"
      },
      "source": [
        "## 5. (3 points) Top 10 Highest Prestige Centrality"
      ]
    },
    {
      "cell_type": "markdown",
      "metadata": {
        "id": "Jh9E0P3KKRJy"
      },
      "source": [
        "Find the top 10 nodes as ranked by prestige centrality (eigenvector centrality in networkx)."
      ]
    },
    {
      "cell_type": "code",
      "source": [
        "# prestige centrality\n",
        "eigenvector_centrality = nx.eigenvector_centrality(G)\n",
        "topSortedDict(eigenvector_centrality)"
      ],
      "metadata": {
        "colab": {
          "base_uri": "https://localhost:8080/"
        },
        "id": "jLA-qhdqqs86",
        "outputId": "2d068a79-1685-4078-a440-3248a184b75a"
      },
      "execution_count": null,
      "outputs": [
        {
          "output_type": "execute_result",
          "data": {
            "text/plain": [
              "{1912: 0.09540696149067629,\n",
              " 1993: 0.0835324284081597,\n",
              " 2078: 0.08413617041724979,\n",
              " 2123: 0.08367141238206226,\n",
              " 2142: 0.08419311897991796,\n",
              " 2206: 0.08605239270584343,\n",
              " 2218: 0.08415573568055032,\n",
              " 2233: 0.08517340912756598,\n",
              " 2266: 0.08698327767886553,\n",
              " 2464: 0.08427877475676092}"
            ]
          },
          "metadata": {},
          "execution_count": 20
        }
      ]
    },
    {
      "cell_type": "markdown",
      "metadata": {
        "id": "6xzDHXMtKRJy"
      },
      "source": [
        "## 6. (3 points) Top 10 Highest Ranked by Pagerank"
      ]
    },
    {
      "cell_type": "markdown",
      "metadata": {
        "id": "4Znuu9IAKRJy"
      },
      "source": [
        "Find the top 10 nodes as ranked by Pagerank."
      ]
    },
    {
      "cell_type": "code",
      "source": [
        "topSortedDict(nx.pagerank(G))"
      ],
      "metadata": {
        "colab": {
          "base_uri": "https://localhost:8080/"
        },
        "id": "QcDKUFAQ7COK",
        "outputId": "9c9cc8c1-760a-4c24-999c-e3ec6d39c3e5"
      },
      "execution_count": null,
      "outputs": [
        {
          "output_type": "execute_result",
          "data": {
            "text/plain": [
              "{0: 0.006289602618466542,\n",
              " 107: 0.006936420955866117,\n",
              " 348: 0.002348096972780577,\n",
              " 414: 0.001800299047070226,\n",
              " 686: 0.002219359259800019,\n",
              " 698: 0.0013171153138368812,\n",
              " 1684: 0.006367162138306824,\n",
              " 1912: 0.003876971600884498,\n",
              " 3437: 0.0076145868447496,\n",
              " 3980: 0.0021703235790099928}"
            ]
          },
          "metadata": {},
          "execution_count": 21
        }
      ]
    },
    {
      "cell_type": "markdown",
      "metadata": {
        "id": "0lNWzVw8KRJy"
      },
      "source": [
        "## 7. (3 points) Commet on Diff. and Sim."
      ]
    },
    {
      "cell_type": "markdown",
      "metadata": {
        "id": "S1RUYMrXKRJy"
      },
      "source": [
        "Comment on the differences and similarities in questions Part 3 1-6. Are the highly ranked nodes mostly the same? Do you notice significant differences in the rankings? Why do you think this is the case?"
      ]
    },
    {
      "cell_type": "markdown",
      "source": [
        "The highest degree a node had was 1045 and that was far from node 107. Node 107 also had a very high betweenness centrality which is expected as it has a large sum of paths leading to and from it. Node 107 was also seen to have a large PageRank value. This was also expected since a node that is pointed to repeatedly will have a higher PageRank and this logically follows that a node with a high degree will have lots of other nodes pointing to it. However, this node did not have a significant clustering coefficient or a high Prestige centrality. Additionally, Node 1912 had a top 10 rank for PageRank, Betweenness centrality, and Prestige centrality. This shows that there are multiple different nodes that could have a perceived \"weight\" to them and should be considered important. It is important to note that no node that ranked highly in the clustering coefficient ranked highly in any other category so it could be assumed that those nodes are very highly clustered but may not be highly clustered with the rest of the graph."
      ],
      "metadata": {
        "id": "dI97MG811xbA"
      }
    },
    {
      "cell_type": "markdown",
      "metadata": {
        "id": "nck_ug5wKRJy"
      },
      "source": [
        "# Tips and Acknowledgements\n",
        "\n",
        "Make sure to submit your answer as a PDF on Gradscope and Brightspace. Make sure to show your work. Include any code snippets you used to generate an answer, using comments in the code to clearly indicate which problem corresponds to which code.\n",
        "\n",
        "**Acknowledgements**: Project adapted from assignments of Veronika Strnadova-Neeley."
      ]
    }
  ],
  "metadata": {
    "interpreter": {
      "hash": "00684e69adb826331b650ae4febdd10eef3cfe83175fe79e1892054a99ff83e7"
    },
    "kernelspec": {
      "display_name": "Python 3.8.12 ('csci347')",
      "language": "python",
      "name": "python3"
    },
    "language_info": {
      "codemirror_mode": {
        "name": "ipython",
        "version": 3
      },
      "file_extension": ".py",
      "mimetype": "text/x-python",
      "name": "python",
      "nbconvert_exporter": "python",
      "pygments_lexer": "ipython3",
      "version": "3.8.12"
    },
    "orig_nbformat": 4,
    "colab": {
      "name": "project-02.ipynb",
      "provenance": [],
      "collapsed_sections": [],
      "toc_visible": true
    }
  },
  "nbformat": 4,
  "nbformat_minor": 0
}