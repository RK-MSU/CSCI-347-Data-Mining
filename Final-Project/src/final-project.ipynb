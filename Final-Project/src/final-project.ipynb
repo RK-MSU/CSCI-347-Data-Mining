{
 "cells": [
  {
   "cell_type": "markdown",
   "metadata": {},
   "source": [
    "Kyler Gappa\n",
    "\n",
    "River Kelly\n",
    "\n",
    "CSCI-347 Data Mining\n",
    "\n",
    "Final Project"
   ]
  },
  {
   "cell_type": "markdown",
   "metadata": {},
   "source": [
    "<https://archive.ics.uci.edu/ml/datasets/Liver+Disorders>"
   ]
  },
  {
   "cell_type": "markdown",
   "metadata": {},
   "source": [
    "# Setup Code"
   ]
  },
  {
   "cell_type": "code",
   "execution_count": null,
   "metadata": {},
   "outputs": [],
   "source": [
    "import math\n",
    "import numpy as np\n",
    "import pandas as pd\n",
    "import matplotlib.pyplot as plt"
   ]
  }
 ],
 "metadata": {
  "interpreter": {
   "hash": "00684e69adb826331b650ae4febdd10eef3cfe83175fe79e1892054a99ff83e7"
  },
  "kernelspec": {
   "display_name": "Python 3.8.12 ('csci347')",
   "language": "python",
   "name": "python3"
  },
  "language_info": {
   "name": "python",
   "version": "3.8.12"
  },
  "orig_nbformat": 4
 },
 "nbformat": 4,
 "nbformat_minor": 2
}
