{
  "cells": [
    {
      "cell_type": "markdown",
      "metadata": {
        "id": "NXd7DQxFsgjb"
      },
      "source": [
        "River Kelly & Kyler Gappa\n",
        "\n",
        "CSCI-347: Data Mining\n",
        "\n",
        "Exploratory Data Analysis"
      ]
    },
    {
      "cell_type": "markdown",
      "metadata": {
        "id": "SWFN0akwke3M"
      },
      "source": [
        "# Introduction\n",
        "\n",
        "The dataset that we have chosen is found is the [Computer Hardware](https://archive.ics.uci.edu/ml/datasets/Computer+Hardware) data set, and is used to compare performance of multiple different computer chips. This data was uploaded by Phillip Ein-Dor and Jacob Feldmesser. Of the 9 attributes and 209 instances, there are no missing values in this data set. There are 2 categorical and 8 numerical attributes. The categorical attributes would probably be best handled with a label encoding because it is useful for identifying differing model types without expanding the dataset too far. This data is interseting as it can shed light on how effective certain parts are and how to shop for a high value deal. ERP is most likely the most descriptive as it is the calculated number that was tested against."
      ]
    },
    {
      "cell_type": "markdown",
      "metadata": {
        "id": "5I46aWKbtL-2"
      },
      "source": [
        "## Data Set Details"
      ]
    },
    {
      "cell_type": "markdown",
      "metadata": {
        "id": "8fGijdczs9xo"
      },
      "source": [
        "| Data Property | Info. |\n",
        "| :-- | :-- |\n",
        "| Number of Instances | 209 |\n",
        "| Number of Attributes | 10 |\n",
        "| Missing Values | No |"
      ]
    },
    {
      "cell_type": "markdown",
      "metadata": {
        "id": "T3EV_xgKtA2R"
      },
      "source": [
        "### Attribute Information\n",
        "\n",
        "1. `vendor name`: 30 *(adviser, amdahl, apollo, basf, bti, burroughs, c.r.d, cambex, cdc, dec, dg, formation, four-phase, gould, honeywell, hp, ibm, ipl, magnuson, microdata, nas, ncr, nixdorf, perkin-elmer, prime, siemens, sperry, sratus, wang)*\n",
        "2. `Model Name`: many unique symbols\n",
        "3. `MYCT`: machine cycle time in nanoseconds (integer)\n",
        "4. `MMIN`: minimum main memory in kilobytes (integer)\n",
        "5. `MMAX`: maximum main memory in kilobytes (integer)\n",
        "6. `CACH`: cache memory in kilobytes (integer)\n",
        "7. `CHMIN`: minimum channels in units (integer)\n",
        "8. `CHMAX`: maximum channels in units (integer)\n",
        "9. `PRP`: published relative performance (integer)\n",
        "10. `ERP`: estimated relative performance from the original article (integer)"
      ]
    },
    {
      "cell_type": "markdown",
      "metadata": {
        "id": "0JaGJaFktee5"
      },
      "source": [
        "## Setup Code"
      ]
    },
    {
      "cell_type": "code",
      "execution_count": 35,
      "metadata": {
        "id": "bIES7TMO8ldw"
      },
      "outputs": [],
      "source": [
        "import numpy as np\n",
        "import pandas as pd\n",
        "import matplotlib.pyplot as plt\n",
        "\n",
        "DATA_FILENAME = 'https://archive.ics.uci.edu/ml/machine-learning-databases/cpu-performance/machine.data'\n",
        "DATA_COL_NAME_DICT = {\n",
        "    'Vendor Name': 'Vendor Name', \n",
        "    'Model Name': 'Model Name', \n",
        "    'MYCT': 'machine cycle time in nanoseconds', \n",
        "    'MMIN': 'minimum main memory in kilobytes', \n",
        "    'MMAX': 'maximum main memory in kilobytes', \n",
        "    'CACH': 'cache memory in kilobytes', \n",
        "    'CHMIN': 'minimum channels in units', \n",
        "    'CHMAX': 'maximum channels in units', \n",
        "    'PRP': 'published relative performance', \n",
        "    'ERP': 'estimated relative performance from the original article'\n",
        "}\n",
        "DATA_COL_NAMES = list(DATA_COL_NAME_DICT.keys())"
      ]
    },
    {
      "cell_type": "code",
      "execution_count": 36,
      "metadata": {
        "id": "5Uo5z4CflBd2"
      },
      "outputs": [],
      "source": [
        "df = pd.read_csv(DATA_FILENAME,\n",
        "        names=DATA_COL_NAMES,\n",
        "        delimiter=',',\n",
        "        encoding=\"utf-8\",\n",
        "        skipinitialspace=True\n",
        "    )"
      ]
    },
    {
      "cell_type": "code",
      "execution_count": 37,
      "metadata": {
        "colab": {
          "base_uri": "https://localhost:8080/",
          "height": 206
        },
        "id": "u9SGLZUva5Ej",
        "outputId": "4c5b1b7a-1c89-4ccd-db80-2f2d75f768f8"
      },
      "outputs": [
        {
          "data": {
            "text/html": [
              "<div>\n",
              "<style scoped>\n",
              "    .dataframe tbody tr th:only-of-type {\n",
              "        vertical-align: middle;\n",
              "    }\n",
              "\n",
              "    .dataframe tbody tr th {\n",
              "        vertical-align: top;\n",
              "    }\n",
              "\n",
              "    .dataframe thead th {\n",
              "        text-align: right;\n",
              "    }\n",
              "</style>\n",
              "<table border=\"1\" class=\"dataframe\">\n",
              "  <thead>\n",
              "    <tr style=\"text-align: right;\">\n",
              "      <th></th>\n",
              "      <th>Vendor Name</th>\n",
              "      <th>Model Name</th>\n",
              "      <th>MYCT</th>\n",
              "      <th>MMIN</th>\n",
              "      <th>MMAX</th>\n",
              "      <th>CACH</th>\n",
              "      <th>CHMIN</th>\n",
              "      <th>CHMAX</th>\n",
              "      <th>PRP</th>\n",
              "      <th>ERP</th>\n",
              "    </tr>\n",
              "  </thead>\n",
              "  <tbody>\n",
              "    <tr>\n",
              "      <th>0</th>\n",
              "      <td>adviser</td>\n",
              "      <td>32/60</td>\n",
              "      <td>125</td>\n",
              "      <td>256</td>\n",
              "      <td>6000</td>\n",
              "      <td>256</td>\n",
              "      <td>16</td>\n",
              "      <td>128</td>\n",
              "      <td>198</td>\n",
              "      <td>199</td>\n",
              "    </tr>\n",
              "    <tr>\n",
              "      <th>1</th>\n",
              "      <td>amdahl</td>\n",
              "      <td>470v/7</td>\n",
              "      <td>29</td>\n",
              "      <td>8000</td>\n",
              "      <td>32000</td>\n",
              "      <td>32</td>\n",
              "      <td>8</td>\n",
              "      <td>32</td>\n",
              "      <td>269</td>\n",
              "      <td>253</td>\n",
              "    </tr>\n",
              "    <tr>\n",
              "      <th>2</th>\n",
              "      <td>amdahl</td>\n",
              "      <td>470v/7a</td>\n",
              "      <td>29</td>\n",
              "      <td>8000</td>\n",
              "      <td>32000</td>\n",
              "      <td>32</td>\n",
              "      <td>8</td>\n",
              "      <td>32</td>\n",
              "      <td>220</td>\n",
              "      <td>253</td>\n",
              "    </tr>\n",
              "    <tr>\n",
              "      <th>3</th>\n",
              "      <td>amdahl</td>\n",
              "      <td>470v/7b</td>\n",
              "      <td>29</td>\n",
              "      <td>8000</td>\n",
              "      <td>32000</td>\n",
              "      <td>32</td>\n",
              "      <td>8</td>\n",
              "      <td>32</td>\n",
              "      <td>172</td>\n",
              "      <td>253</td>\n",
              "    </tr>\n",
              "    <tr>\n",
              "      <th>4</th>\n",
              "      <td>amdahl</td>\n",
              "      <td>470v/7c</td>\n",
              "      <td>29</td>\n",
              "      <td>8000</td>\n",
              "      <td>16000</td>\n",
              "      <td>32</td>\n",
              "      <td>8</td>\n",
              "      <td>16</td>\n",
              "      <td>132</td>\n",
              "      <td>132</td>\n",
              "    </tr>\n",
              "  </tbody>\n",
              "</table>\n",
              "</div>"
            ],
            "text/plain": [
              "  Vendor Name Model Name  MYCT  MMIN   MMAX  CACH  CHMIN  CHMAX  PRP  ERP\n",
              "0     adviser      32/60   125   256   6000   256     16    128  198  199\n",
              "1      amdahl     470v/7    29  8000  32000    32      8     32  269  253\n",
              "2      amdahl    470v/7a    29  8000  32000    32      8     32  220  253\n",
              "3      amdahl    470v/7b    29  8000  32000    32      8     32  172  253\n",
              "4      amdahl    470v/7c    29  8000  16000    32      8     16  132  132"
            ]
          },
          "execution_count": 37,
          "metadata": {},
          "output_type": "execute_result"
        }
      ],
      "source": [
        "df.head(5)"
      ]
    },
    {
      "cell_type": "code",
      "execution_count": 38,
      "metadata": {
        "colab": {
          "base_uri": "https://localhost:8080/",
          "height": 300
        },
        "id": "t3023CwtuPTB",
        "outputId": "810c38c5-0a94-4b73-c344-866fa16605a2"
      },
      "outputs": [
        {
          "data": {
            "text/html": [
              "<div>\n",
              "<style scoped>\n",
              "    .dataframe tbody tr th:only-of-type {\n",
              "        vertical-align: middle;\n",
              "    }\n",
              "\n",
              "    .dataframe tbody tr th {\n",
              "        vertical-align: top;\n",
              "    }\n",
              "\n",
              "    .dataframe thead th {\n",
              "        text-align: right;\n",
              "    }\n",
              "</style>\n",
              "<table border=\"1\" class=\"dataframe\">\n",
              "  <thead>\n",
              "    <tr style=\"text-align: right;\">\n",
              "      <th></th>\n",
              "      <th>MYCT</th>\n",
              "      <th>MMIN</th>\n",
              "      <th>MMAX</th>\n",
              "      <th>CACH</th>\n",
              "      <th>CHMIN</th>\n",
              "      <th>CHMAX</th>\n",
              "      <th>PRP</th>\n",
              "      <th>ERP</th>\n",
              "    </tr>\n",
              "  </thead>\n",
              "  <tbody>\n",
              "    <tr>\n",
              "      <th>count</th>\n",
              "      <td>209.000000</td>\n",
              "      <td>209.000000</td>\n",
              "      <td>209.000000</td>\n",
              "      <td>209.000000</td>\n",
              "      <td>209.000000</td>\n",
              "      <td>209.000000</td>\n",
              "      <td>209.000000</td>\n",
              "      <td>209.000000</td>\n",
              "    </tr>\n",
              "    <tr>\n",
              "      <th>mean</th>\n",
              "      <td>203.822967</td>\n",
              "      <td>2867.980861</td>\n",
              "      <td>11796.153110</td>\n",
              "      <td>25.205742</td>\n",
              "      <td>4.698565</td>\n",
              "      <td>18.267943</td>\n",
              "      <td>105.622010</td>\n",
              "      <td>99.330144</td>\n",
              "    </tr>\n",
              "    <tr>\n",
              "      <th>std</th>\n",
              "      <td>260.262926</td>\n",
              "      <td>3878.742758</td>\n",
              "      <td>11726.564377</td>\n",
              "      <td>40.628722</td>\n",
              "      <td>6.816274</td>\n",
              "      <td>25.997318</td>\n",
              "      <td>160.830733</td>\n",
              "      <td>154.757102</td>\n",
              "    </tr>\n",
              "    <tr>\n",
              "      <th>min</th>\n",
              "      <td>17.000000</td>\n",
              "      <td>64.000000</td>\n",
              "      <td>64.000000</td>\n",
              "      <td>0.000000</td>\n",
              "      <td>0.000000</td>\n",
              "      <td>0.000000</td>\n",
              "      <td>6.000000</td>\n",
              "      <td>15.000000</td>\n",
              "    </tr>\n",
              "    <tr>\n",
              "      <th>25%</th>\n",
              "      <td>50.000000</td>\n",
              "      <td>768.000000</td>\n",
              "      <td>4000.000000</td>\n",
              "      <td>0.000000</td>\n",
              "      <td>1.000000</td>\n",
              "      <td>5.000000</td>\n",
              "      <td>27.000000</td>\n",
              "      <td>28.000000</td>\n",
              "    </tr>\n",
              "    <tr>\n",
              "      <th>50%</th>\n",
              "      <td>110.000000</td>\n",
              "      <td>2000.000000</td>\n",
              "      <td>8000.000000</td>\n",
              "      <td>8.000000</td>\n",
              "      <td>2.000000</td>\n",
              "      <td>8.000000</td>\n",
              "      <td>50.000000</td>\n",
              "      <td>45.000000</td>\n",
              "    </tr>\n",
              "    <tr>\n",
              "      <th>75%</th>\n",
              "      <td>225.000000</td>\n",
              "      <td>4000.000000</td>\n",
              "      <td>16000.000000</td>\n",
              "      <td>32.000000</td>\n",
              "      <td>6.000000</td>\n",
              "      <td>24.000000</td>\n",
              "      <td>113.000000</td>\n",
              "      <td>101.000000</td>\n",
              "    </tr>\n",
              "    <tr>\n",
              "      <th>max</th>\n",
              "      <td>1500.000000</td>\n",
              "      <td>32000.000000</td>\n",
              "      <td>64000.000000</td>\n",
              "      <td>256.000000</td>\n",
              "      <td>52.000000</td>\n",
              "      <td>176.000000</td>\n",
              "      <td>1150.000000</td>\n",
              "      <td>1238.000000</td>\n",
              "    </tr>\n",
              "  </tbody>\n",
              "</table>\n",
              "</div>"
            ],
            "text/plain": [
              "              MYCT          MMIN          MMAX        CACH       CHMIN  \\\n",
              "count   209.000000    209.000000    209.000000  209.000000  209.000000   \n",
              "mean    203.822967   2867.980861  11796.153110   25.205742    4.698565   \n",
              "std     260.262926   3878.742758  11726.564377   40.628722    6.816274   \n",
              "min      17.000000     64.000000     64.000000    0.000000    0.000000   \n",
              "25%      50.000000    768.000000   4000.000000    0.000000    1.000000   \n",
              "50%     110.000000   2000.000000   8000.000000    8.000000    2.000000   \n",
              "75%     225.000000   4000.000000  16000.000000   32.000000    6.000000   \n",
              "max    1500.000000  32000.000000  64000.000000  256.000000   52.000000   \n",
              "\n",
              "            CHMAX          PRP          ERP  \n",
              "count  209.000000   209.000000   209.000000  \n",
              "mean    18.267943   105.622010    99.330144  \n",
              "std     25.997318   160.830733   154.757102  \n",
              "min      0.000000     6.000000    15.000000  \n",
              "25%      5.000000    27.000000    28.000000  \n",
              "50%      8.000000    50.000000    45.000000  \n",
              "75%     24.000000   113.000000   101.000000  \n",
              "max    176.000000  1150.000000  1238.000000  "
            ]
          },
          "execution_count": 38,
          "metadata": {},
          "output_type": "execute_result"
        }
      ],
      "source": [
        "df.describe()"
      ]
    },
    {
      "cell_type": "markdown",
      "metadata": {
        "id": "VhADI5RBgC6e"
      },
      "source": [
        "# Write Python code for data analysis"
      ]
    },
    {
      "cell_type": "markdown",
      "metadata": {
        "id": "reNtc7v9a5Ek"
      },
      "source": [
        "Use Python to write the following functions, without using any functions with the same purpose in sklearn, pandas, numpy, or any other library (though you may want to use these libraries to check your answers):"
      ]
    },
    {
      "cell_type": "code",
      "execution_count": 39,
      "metadata": {
        "id": "mD4TsxSXzlav"
      },
      "outputs": [],
      "source": [
        "def arrayMean(arr):\n",
        "  sum = 0\n",
        "  for i in arr: sum += i\n",
        "  return sum / arr.shape[0]\n",
        "\n",
        "def arrMin(arr):\n",
        "    # stored min value\n",
        "    min_value = None\n",
        "    # loop through array values\n",
        "    for i in arr:\n",
        "        # check if current val is less the stored min\n",
        "        if min_value is None:\n",
        "            min_value = i\n",
        "        elif i < min_value:\n",
        "            # update stored min value\n",
        "            min_value = i\n",
        "    # return min value in array\n",
        "    return min_value\n",
        "\n",
        "def arrMax(arr):\n",
        "    # stored max value\n",
        "    max_value = None\n",
        "    # loop through array values\n",
        "    for i in arr:\n",
        "        # check if current val is less the stored max\n",
        "        if max_value is None:\n",
        "            max_value = i\n",
        "        elif max_value < i:\n",
        "            # update stored max value\n",
        "            max_value = i\n",
        "    # return main value in array\n",
        "    return max_value"
      ]
    },
    {
      "cell_type": "markdown",
      "metadata": {
        "id": "LI1vfCoCgGaO"
      },
      "source": [
        "## (5 points)"
      ]
    },
    {
      "cell_type": "markdown",
      "metadata": {
        "id": "7whGG_uIa5El"
      },
      "source": [
        "A function that will compute the mean of a numerical, multidimensional data set input as a 2-dimensional numpy array."
      ]
    },
    {
      "cell_type": "code",
      "execution_count": 40,
      "metadata": {
        "id": "f13G_qkl8CAt"
      },
      "outputs": [],
      "source": [
        "def multiDimensionalMean(m):\n",
        "    # output array (i.e. mean array)\n",
        "    mean = [0] * m.shape[1]\n",
        "    # iterate over columns\n",
        "    for col_index in range(m.shape[1]):\n",
        "        # get column array\n",
        "        col_arr = m[:,col_index]\n",
        "        # column mean\n",
        "        col_mean = arrayMean(col_arr)\n",
        "        # set column mean to mean (output) array\n",
        "        mean[col_index] = col_mean\n",
        "    # return multi-dimensional mean\n",
        "    return mean"
      ]
    },
    {
      "cell_type": "markdown",
      "metadata": {
        "id": "0tQA9ZGcgUg7"
      },
      "source": [
        "## (5 points)"
      ]
    },
    {
      "cell_type": "markdown",
      "metadata": {
        "id": "kyRx4FFXa5El"
      },
      "source": [
        "A function that will compute the estimated covariance between two attributes that are input as one-dimensional numpy vectors."
      ]
    },
    {
      "cell_type": "code",
      "execution_count": 41,
      "metadata": {
        "id": "e2gy1lBr8I_2"
      },
      "outputs": [],
      "source": [
        "def covariance(v1, v2 = None):\n",
        "    if v2 is None: v2 = v1\n",
        "    # vector 1 mean\n",
        "    v1_mean = arrayMean(v1)\n",
        "    # vector 2 mean\n",
        "    v2_mean = arrayMean(v2)\n",
        "    # co_var (the covariance between v1 and v2)\n",
        "    co_var = 0\n",
        "    # loop through v1 and v2 values\n",
        "    for i in range(v1.shape[0]):\n",
        "        co_var += (v1[i] - v1_mean) * (v2[i] - v2_mean)\n",
        "    # calculate and return the co-variance between v1 and v2\n",
        "    return (co_var / (v1.shape[0] - 1))"
      ]
    },
    {
      "cell_type": "markdown",
      "metadata": {
        "id": "f4sIkPvogUp8"
      },
      "source": [
        "## (5 points)"
      ]
    },
    {
      "cell_type": "markdown",
      "metadata": {
        "id": "LDRBLmtja5En"
      },
      "source": [
        "A function that will compute the correlation between two attributes that are input as two numpy vectors."
      ]
    },
    {
      "cell_type": "code",
      "execution_count": 42,
      "metadata": {
        "id": "7UzjApiz8agd"
      },
      "outputs": [],
      "source": [
        "def correlation(vi, vj):\n",
        "    # v_i standard deviation = sqrt(vi co-variance)\n",
        "    vi_std_div = (covariance(vi) ** (1/2))\n",
        "    # v_j standard deviation\n",
        "    vj_std_div = (covariance(vj) ** (1/2))\n",
        "    # co-variance of vi and vj (v_ij)\n",
        "    covar_vij = covariance(vi, vj)\n",
        "    # calculate correlation of vi and vj\n",
        "    return (covar_vij / (vi_std_div * vj_std_div))"
      ]
    },
    {
      "cell_type": "markdown",
      "metadata": {
        "id": "LztxDPlngcmA"
      },
      "source": [
        "## (5 points)"
      ]
    },
    {
      "cell_type": "markdown",
      "metadata": {
        "id": "gM8jod3qa5En"
      },
      "source": [
        " A function that will normalize the attributes in a two-dimensional numpy array using range normalization."
      ]
    },
    {
      "cell_type": "code",
      "execution_count": 43,
      "metadata": {
        "id": "i-Gs7Bfr5gBp"
      },
      "outputs": [],
      "source": [
        "def rangeNormalize(m):\n",
        "    # create normlized matrix based on shape of input matrix\n",
        "    normalized_arr = np.ndarray(m.shape)\n",
        "    # loop through input matrix rows\n",
        "    for row_index in range(m.shape[0]):\n",
        "        # loop through input matrix columns\n",
        "        for col_index in range(m.shape[1]):\n",
        "            # get current column array\n",
        "            col_arr = m[:,col_index]\n",
        "            # min value for current column\n",
        "            col_min = arrMin(col_arr)\n",
        "            # max value for current column\n",
        "            col_max = arrMax(col_arr)\n",
        "            # calculate current x_ij normalized value\n",
        "            x_ij_norm_value = (m[row_index, col_index] - col_min) / (col_max - col_min)\n",
        "            # set x_ij normalized value in normalized matrix\n",
        "            normalized_arr[row_index, col_index] = x_ij_norm_value\n",
        "    return normalized_arr"
      ]
    },
    {
      "cell_type": "markdown",
      "metadata": {
        "id": "PR0bNC2-ggRL"
      },
      "source": [
        "## (5 points)"
      ]
    },
    {
      "cell_type": "markdown",
      "metadata": {
        "id": "zSjRg0JQa5Eo"
      },
      "source": [
        "A function that will normalize the attributes in a two-dimensional numpy array using standard normalization."
      ]
    },
    {
      "cell_type": "code",
      "execution_count": 44,
      "metadata": {
        "id": "c99JZx3W62se"
      },
      "outputs": [],
      "source": [
        "def zScoreNormalize(m):\n",
        "    # create normlized matrix based on shape of input matrix\n",
        "    z_score = np.ndarray(m.shape)\n",
        "    # loop through input matrix rows\n",
        "    for row_index in range(m.shape[0]):\n",
        "        # loop through input matrix columns\n",
        "        for col_index in range(m.shape[1]):\n",
        "            # get current column array\n",
        "            col_arr = m[:,col_index]\n",
        "            # calculate the standard devieation for the current column\n",
        "            col_std_div = (covariance(col_arr)) ** (1/2)\n",
        "            # calculate the column's mean\n",
        "            col_mean = arrayMean(col_arr)\n",
        "            # get the x_ij value from the imput matix\n",
        "            x_ij = m[row_index, col_index]\n",
        "            # calculate the x_ji z-score\n",
        "            x_ij_zscore = (x_ij - col_mean) / col_std_div\n",
        "            # set x_ij normalized value in normalized matrix\n",
        "            z_score[row_index, col_index] = x_ij_zscore\n",
        "    # return the normalized array\n",
        "    return z_score"
      ]
    },
    {
      "cell_type": "markdown",
      "metadata": {
        "id": "Xrw_biGTgmui"
      },
      "source": [
        "## (5 points)"
      ]
    },
    {
      "cell_type": "markdown",
      "metadata": {
        "id": "iLo9cXfua5Eo"
      },
      "source": [
        "A function that will compute the covariance matrix of a data set."
      ]
    },
    {
      "cell_type": "code",
      "execution_count": 45,
      "metadata": {
        "id": "NFEn05kP8iJX"
      },
      "outputs": [],
      "source": [
        "def covarianceMatrix(m):\n",
        "    # co-variance matrix\n",
        "    covar_m = np.ndarray((m.shape[1], m.shape[1]))\n",
        "    # loop through input matrix rows\n",
        "    for i in range(m.shape[1]):\n",
        "        # loop through input matrix rows (again)\n",
        "        for j in range(m.shape[1]):\n",
        "            # set x_ij covariance value\n",
        "            covar_m[i, j] = covariance(m[:,i], m[:,j])\n",
        "    # return the covariance matrix\n",
        "    return covar_m"
      ]
    },
    {
      "cell_type": "markdown",
      "metadata": {
        "id": "37FnctcqhA61"
      },
      "source": [
        "## (5 points)"
      ]
    },
    {
      "cell_type": "markdown",
      "metadata": {
        "id": "-FPTbA3ma5Ep"
      },
      "source": [
        "A function that will label-encode a two-dimensional categorical data array that is passed in as input."
      ]
    },
    {
      "cell_type": "code",
      "execution_count": 46,
      "metadata": {
        "id": "Cg76IQCw9Twk"
      },
      "outputs": [],
      "source": [
        "def labelEncodeMatrix(m):\n",
        "    # label encoded matrix\n",
        "    encoded_matrix = np.ndarray((len(m), len(m[0])))\n",
        "    # a dictionary for maintaining encoded column values\n",
        "    # found in the matrix\n",
        "    encode_cols_data = {}\n",
        "    # loop through input matrix rows\n",
        "    for row in range(len(m)):\n",
        "        # initalize empty array for current row encoding\n",
        "        encoded_row = [0] * len(m[row])\n",
        "        # loop through input matrix columns\n",
        "        for col in range(len(m[row])):\n",
        "            # x_ij value\n",
        "            cell = m[row][col]\n",
        "            # update the (temp) encoded row[col] value\n",
        "            encoded_row[col] = cell\n",
        "            # we only care about strings, so continue is not a type string\n",
        "            if not isinstance(cell, str): continue\n",
        "            # We have a string value, so let's set up our\n",
        "            # encode columns dictionary\n",
        "            if col not in encode_cols_data: encode_cols_data[col] = list()\n",
        "            # Check to see if the current x_ij has aleady been set in our\n",
        "            # encode columns dictionary data\n",
        "            # If it has not, we will add it\n",
        "            if cell not in encode_cols_data[col]:\n",
        "                # add x_ij string value to our encode column dictionary data \n",
        "                encode_cols_data[col].append(cell)\n",
        "            # set the (temp) encoded row x_ij value with the corresponding\n",
        "            # label encoded value from out columns dictionary\n",
        "            encoded_row[col] = encode_cols_data[col].index(cell)\n",
        "        # append (temp) encoded row to our label encoded matrix\n",
        "        encoded_matrix[row] = np.array(encoded_row)\n",
        "    # return label encoded matrix\n",
        "    return encoded_matrix"
      ]
    },
    {
      "cell_type": "markdown",
      "metadata": {
        "id": "ya7quGtbhHrN"
      },
      "source": [
        "# Analyze the data with your code and write up the results"
      ]
    },
    {
      "cell_type": "markdown",
      "metadata": {
        "id": "bL7WZ3EOa5Ep"
      },
      "source": [
        "Use your code from Part 2 to answer the following questions in a well-written paragraph, and create the following plots from the numerical portion of the data. Use your functions to compute the multi-variate mean and covariance matrix of the **numerical portion** of your data set. **Before answering the questions**:\n",
        "\n",
        "- (5 points) Convert all categorical attributes using label encoding or one-hot-encoding.\n",
        "- (2 points) If your data has missing values, fill in those values with the attribute mean."
      ]
    },
    {
      "cell_type": "code",
      "execution_count": 47,
      "metadata": {
        "id": "Qdh0tj43ivlU"
      },
      "outputs": [],
      "source": [
        "# Helper Functions\n",
        "def convertDataFrameToTwoDimensionalList(df):\n",
        "    data = list()\n",
        "    for index, row in df.iterrows():\n",
        "        data_row = []\n",
        "        for col_name in DATA_COL_NAMES:\n",
        "            data_row.append(row[col_name])\n",
        "        data.append(data_row)\n",
        "    return data\n",
        "\n",
        "def labelEncodeDataFrameToNumpyArray(df):\n",
        "    data = convertDataFrameToTwoDimensionalList(df)\n",
        "    data = labelEncodeMatrix(data)\n",
        "    np_array = np.ndarray((len(data), len(DATA_COL_NAMES)), dtype=int)\n",
        "    for i in range(len(data)):\n",
        "        np_array[i] = np.array(data[i], dtype=int)\n",
        "    return np_array\n",
        "\n",
        "def convertNumpyNdArrayToDataFrame(m):\n",
        "    df_data = {}\n",
        "    for col_name_index in range(len(DATA_COL_NAMES)):\n",
        "        col_name = DATA_COL_NAMES[col_name_index]\n",
        "        df_data[col_name] = m[:,col_name_index]\n",
        "    return pd.DataFrame(df_data)\n",
        "\n",
        "def labelEncodeDataFrame(df):\n",
        "    data = labelEncodeDataFrameToNumpyArray(df)\n",
        "    return convertNumpyNdArrayToDataFrame(data)"
      ]
    },
    {
      "cell_type": "markdown",
      "metadata": {
        "id": "uRDbxPEFM4-B"
      },
      "source": [
        "Convert all categorical attributes using label encoding or one-hot-encoding"
      ]
    },
    {
      "cell_type": "code",
      "execution_count": 48,
      "metadata": {
        "id": "wNvHH61rM6jL"
      },
      "outputs": [],
      "source": [
        "label_encoded_matrix = labelEncodeDataFrameToNumpyArray(df)"
      ]
    },
    {
      "cell_type": "code",
      "execution_count": 49,
      "metadata": {
        "id": "Abwxi-PpbmdL"
      },
      "outputs": [],
      "source": [
        "# (Ambiguious) Helper Function\n",
        "def fetchPairs(m, pairValueFnc, thresholdFnc, keyValueName, okay_indices=None, reverse_sort=True):\n",
        "    data_dict = {}\n",
        "    for i in range(len(DATA_COL_NAMES)):\n",
        "        for j in range(len(DATA_COL_NAMES)):\n",
        "            if okay_indices is not None:\n",
        "                if i not in okay_indices: continue\n",
        "                if j not in okay_indices: continue\n",
        "            if i == j: continue # do not need to check of same column\n",
        "            if j in data_dict: continue # no need for duplicates\n",
        "            # ensure dictionary value is available\n",
        "            if i not in data_dict: data_dict[i] = {}\n",
        "            # get col i\n",
        "            col_i = m[:,i]\n",
        "            # get col v\n",
        "            col_j = m[:,j]\n",
        "            # calculate (VALUE) between columns i and j\n",
        "            var = pairValueFnc(col_i, col_j)\n",
        "            data_dict[i][j] = var\n",
        "    \n",
        "    data_list = list()\n",
        "    \n",
        "    for i in data_dict:\n",
        "        for j in data_dict[i]:\n",
        "            if thresholdFnc is not None:\n",
        "                if not thresholdFnc(data_dict[i][j]): continue\n",
        "            data_list.append({\n",
        "                \"x_i\": DATA_COL_NAMES[i],\n",
        "                \"x_j\": DATA_COL_NAMES[j],\n",
        "                keyValueName: data_dict[i][j]\n",
        "            })\n",
        "    \n",
        "    data_list.sort(key=lambda x: x[keyValueName], reverse=reverse_sort)\n",
        "\n",
        "    return data_list"
      ]
    },
    {
      "cell_type": "markdown",
      "metadata": {
        "id": "cH2vcwL7iQth"
      },
      "source": [
        "## (2 points)"
      ]
    },
    {
      "cell_type": "markdown",
      "metadata": {
        "id": "0t83Y9Oea5Eq"
      },
      "source": [
        "What is the multidimensional mean of the numerical data matrix (where categorical data have been converted to numerical values)?"
      ]
    },
    {
      "cell_type": "code",
      "execution_count": 50,
      "metadata": {
        "colab": {
          "base_uri": "https://localhost:8080/"
        },
        "id": "xGIc2stvjj7j",
        "outputId": "2cf97366-2298-4fed-df36-4a3a3d83dddb"
      },
      "outputs": [
        {
          "data": {
            "text/plain": [
              "[15.947368421052632,\n",
              " 104.0,\n",
              " 203.82296650717703,\n",
              " 2867.9808612440193,\n",
              " 11796.153110047846,\n",
              " 25.205741626794257,\n",
              " 4.698564593301436,\n",
              " 18.267942583732058,\n",
              " 105.622009569378,\n",
              " 99.33014354066985]"
            ]
          },
          "execution_count": 50,
          "metadata": {},
          "output_type": "execute_result"
        }
      ],
      "source": [
        "multiDimensionalMean(label_encoded_matrix)"
      ]
    },
    {
      "cell_type": "markdown",
      "metadata": {
        "id": "bH5Scp8-iS7H"
      },
      "source": [
        "## (4 points)"
      ]
    },
    {
      "cell_type": "markdown",
      "metadata": {
        "id": "0FxdErupa5Eq"
      },
      "source": [
        "What is the covariance matrix of the numerical data matrix (where categorical data have been converted to numerical values)?"
      ]
    },
    {
      "cell_type": "code",
      "execution_count": 51,
      "metadata": {
        "colab": {
          "base_uri": "https://localhost:8080/"
        },
        "id": "qCCYu143AVyq",
        "outputId": "55498b45-7686-4028-ae01-6405f836731f"
      },
      "outputs": [
        {
          "data": {
            "text/plain": [
              "array([[ 5.64058704e+01,  4.46822115e+02, -1.43783401e+02,\n",
              "        -2.48040486e+03,  1.16341194e+03,  4.24342105e-01,\n",
              "         1.60905870e+00, -1.89929150e+00, -2.87122976e+01,\n",
              "        -2.32373482e+01],\n",
              "       [ 4.46822115e+02,  3.65750000e+03, -1.63230288e+03,\n",
              "        -5.29427885e+03,  4.69687788e+04,  1.38322115e+02,\n",
              "         3.03317308e+01, -7.19230769e+00,  2.31009615e+02,\n",
              "         3.50158654e+02],\n",
              "       [-1.43783401e+02, -1.63230288e+03,  6.77367906e+04,\n",
              "        -3.38828426e+05, -1.15536320e+06, -3.39429994e+03,\n",
              "        -5.34140159e+02, -1.69493311e+03, -1.28546538e+04,\n",
              "        -1.16158643e+04],\n",
              "       [-2.48040486e+03, -5.29427885e+03, -3.38828426e+05,\n",
              "         1.50446454e+07,  3.44842765e+07,  8.42670809e+04,\n",
              "         1.36737442e+04,  2.69141205e+04,  4.95894897e+05,\n",
              "         4.91790391e+05],\n",
              "       [ 1.16341194e+03,  4.69687788e+04, -1.15536320e+06,\n",
              "         3.44842765e+07,  1.37512312e+08,  2.56317353e+05,\n",
              "         4.48026618e+04,  1.60735863e+05,  1.62761883e+06,\n",
              "         1.63547424e+06],\n",
              "       [ 4.24342105e-01,  1.38322115e+02, -3.39429994e+03,\n",
              "         8.42670809e+04,  2.56317353e+05,  1.65069304e+03,\n",
              "         1.61245008e+02,  5.15281146e+02,  4.32992910e+03,\n",
              "         4.07825386e+03],\n",
              "       [ 1.60905870e+00,  3.03317308e+01, -5.34140159e+02,\n",
              "         1.36737442e+04,  4.48026618e+04,  1.61245008e+02,\n",
              "         4.64615845e+01,  9.71580788e+01,  6.67520128e+02,\n",
              "         6.44080765e+02],\n",
              "       [-1.89929150e+00, -7.19230769e+00, -1.69493311e+03,\n",
              "         2.69141205e+04,  1.60735863e+05,  5.15281146e+02,\n",
              "         9.71580788e+01,  6.75860554e+02,  2.53048157e+03,\n",
              "         2.38240150e+03],\n",
              "       [-2.87122976e+01,  2.31009615e+02, -1.28546538e+04,\n",
              "         4.95894897e+05,  1.62761883e+06,  4.32992910e+03,\n",
              "         6.67520128e+02,  2.53048157e+03,  2.58665247e+04,\n",
              "         2.40551879e+04],\n",
              "       [-2.32373482e+01,  3.50158654e+02, -1.16158643e+04,\n",
              "         4.91790391e+05,  1.63547424e+06,  4.07825386e+03,\n",
              "         6.44080765e+02,  2.38240150e+03,  2.40551879e+04,\n",
              "         2.39497607e+04]])"
            ]
          },
          "execution_count": 51,
          "metadata": {},
          "output_type": "execute_result"
        }
      ],
      "source": [
        "covarianceMatrix(label_encoded_matrix)"
      ]
    },
    {
      "cell_type": "markdown",
      "metadata": {
        "id": "oRTudRs1iWJn"
      },
      "source": [
        "## (5 points)"
      ]
    },
    {
      "cell_type": "markdown",
      "metadata": {
        "id": "SE9ccm6ha5Eq"
      },
      "source": [
        "> Choose 5 pairs of attributes that you think could be related. Create scatter plots of all 5 pairs and include these in your report, along with a description and analysis that summarizes why these pairs of attributes might be related, and how the scatter plots do or do not support this intuition."
      ]
    },
    {
      "cell_type": "markdown",
      "metadata": {
        "id": "7rzJmoDjmvb6"
      },
      "source": [
        "We are going to be considering the following five attribute pairs: (CACH, ERP), (CHMAX, ERP), (MMAX, ERP), (MMAX, CHMAX), (MMIN, CHMIN). We chose the cycle time and estimated relative performance as a faster cycle should result in faster performance, while thinking an increased cache size should result in less memory readouts. The maximum/minimum memory and maximum/minimum cache could be directily correlated as they serve similar purposes. Additionally, it would be expected that having a higher published performance should mean that the estimated performance would be higher as well. We found that for most of the pairs we tested that there was no visible connection between the pairs, but that there was a slightly exponential trend for a high maximum memory to have a higher estimated relative performance."
      ]
    },
    {
      "cell_type": "code",
      "execution_count": 52,
      "metadata": {
        "colab": {
          "base_uri": "https://localhost:8080/",
          "height": 0
        },
        "id": "wOflp0h-B2n4",
        "outputId": "4460e84e-eea4-41b0-9bb0-5f094c01c921"
      },
      "outputs": [
        {
          "data": {
            "text/plain": [
              "Text(0, 0.5, 'estimated relative performance (nanoseconds)')"
            ]
          },
          "execution_count": 52,
          "metadata": {},
          "output_type": "execute_result"
        },
        {
          "data": {
            "image/png": "[encoded data removed]",
            "text/plain": [
              "<Figure size 432x288 with 1 Axes>"
            ]
          },
          "metadata": {
            "needs_background": "light"
          },
          "output_type": "display_data"
        }
      ],
      "source": [
        "data = label_encoded_matrix\n",
        "plt.scatter(data[:,5], data[:,9])\n",
        "plt.xlabel('cache memory (kilobytes)')\n",
        "plt.ylabel('estimated relative performance (nanoseconds)')"
      ]
    },
    {
      "cell_type": "code",
      "execution_count": 53,
      "metadata": {
        "colab": {
          "base_uri": "https://localhost:8080/",
          "height": 0
        },
        "id": "1GIxcGVJNlZK",
        "outputId": "2a68ceb5-3ae7-41aa-8ced-875e93735b98"
      },
      "outputs": [
        {
          "data": {
            "text/plain": [
              "Text(0, 0.5, 'estimated relative performance (nanoseconds)')"
            ]
          },
          "execution_count": 53,
          "metadata": {},
          "output_type": "execute_result"
        },
        {
          "data": {
            "image/png": "[encoded data removed]",
            "text/plain": [
              "<Figure size 432x288 with 1 Axes>"
            ]
          },
          "metadata": {
            "needs_background": "light"
          },
          "output_type": "display_data"
        }
      ],
      "source": [
        "data = label_encoded_matrix\n",
        "plt.scatter(data[:,7], data[:,9])\n",
        "plt.xlabel('maximum channels (kilobytes)')\n",
        "plt.ylabel('estimated relative performance (nanoseconds)')"
      ]
    },
    {
      "cell_type": "code",
      "execution_count": 54,
      "metadata": {
        "colab": {
          "base_uri": "https://localhost:8080/",
          "height": 0
        },
        "id": "9F8m4XszL4pJ",
        "outputId": "a1dc33ca-0e8d-42fb-fa19-5a2dc0606669"
      },
      "outputs": [
        {
          "data": {
            "text/plain": [
              "Text(0, 0.5, 'estimated relative performance (nanoseconds)')"
            ]
          },
          "execution_count": 54,
          "metadata": {},
          "output_type": "execute_result"
        },
        {
          "data": {
            "image/png": "[encoded data removed]",
            "text/plain": [
              "<Figure size 432x288 with 1 Axes>"
            ]
          },
          "metadata": {
            "needs_background": "light"
          },
          "output_type": "display_data"
        }
      ],
      "source": [
        "data = label_encoded_matrix\n",
        "plt.scatter(data[:,4], data[:,9])\n",
        "plt.xlabel('maximum main memory (kilobytes)')\n",
        "plt.ylabel('estimated relative performance (nanoseconds)')"
      ]
    },
    {
      "cell_type": "code",
      "execution_count": 55,
      "metadata": {
        "colab": {
          "base_uri": "https://localhost:8080/",
          "height": 0
        },
        "id": "tEHMMdVDN0jl",
        "outputId": "597cb672-c0e1-4e00-c6f7-6a5ba9aabc0a"
      },
      "outputs": [
        {
          "data": {
            "text/plain": [
              "Text(0, 0.5, 'maximum channels (units)')"
            ]
          },
          "execution_count": 55,
          "metadata": {},
          "output_type": "execute_result"
        },
        {
          "data": {
            "image/png": "[encoded data removed]",
            "text/plain": [
              "<Figure size 432x288 with 1 Axes>"
            ]
          },
          "metadata": {
            "needs_background": "light"
          },
          "output_type": "display_data"
        }
      ],
      "source": [
        "data = label_encoded_matrix\n",
        "plt.scatter(data[:,4], data[:,7])\n",
        "plt.xlabel('maximum main memory (kilobytes)')\n",
        "plt.ylabel('maximum channels (units)')"
      ]
    },
    {
      "cell_type": "code",
      "execution_count": 56,
      "metadata": {
        "colab": {
          "base_uri": "https://localhost:8080/",
          "height": 0
        },
        "id": "kQ7RpLrqOeCe",
        "outputId": "27b13363-8c04-4c3c-a16f-2a79a0cb3518"
      },
      "outputs": [
        {
          "data": {
            "text/plain": [
              "Text(0, 0.5, 'minimum channels (units)')"
            ]
          },
          "execution_count": 56,
          "metadata": {},
          "output_type": "execute_result"
        },
        {
          "data": {
            "image/png": "[encoded data removed]",
            "text/plain": [
              "<Figure size 432x288 with 1 Axes>"
            ]
          },
          "metadata": {
            "needs_background": "light"
          },
          "output_type": "display_data"
        }
      ],
      "source": [
        "data = label_encoded_matrix\n",
        "plt.scatter(data[:,3], data[:,6])\n",
        "plt.xlabel('minimum main memory (kilobytes)')\n",
        "plt.ylabel('minimum channels (units)')"
      ]
    },
    {
      "cell_type": "markdown",
      "metadata": {
        "id": "F4MiquYFiaQe"
      },
      "source": [
        "## (3 points)"
      ]
    },
    {
      "cell_type": "markdown",
      "metadata": {
        "id": "COIL8qKua5Es"
      },
      "source": [
        "Which range-normalized numerical attributes have the greatest estimated covariance? What is their estimated covariance? Create a scatter plot of these range-normalized attributes."
      ]
    },
    {
      "cell_type": "code",
      "execution_count": 57,
      "metadata": {
        "colab": {
          "base_uri": "https://localhost:8080/"
        },
        "id": "sAmVAoF3Akri",
        "outputId": "70b1e77f-1b68-489a-c7dd-f102f5ddec49"
      },
      "outputs": [
        {
          "name": "stdout",
          "output_type": "stream",
          "text": [
            "The range-normalized numerical attributes with the greatest estimated covariance:\n",
            "Columns: 'MMAX' (maximum main memory in kilobytes) and 'PRP'(published relative performance)\n",
            "Covariance of: 0.02\n"
          ]
        }
      ],
      "source": [
        "def fetchGreatestCovariancePair(m, okay_indices=None):\n",
        "    pair_data = fetchPairs(m, covariance, None, \"covariance\", okay_indices)\n",
        "    greatest_pair_data = pair_data[0]\n",
        "    return greatest_pair_data\n",
        "\n",
        "range_norm_matrix = rangeNormalize(label_encoded_matrix)\n",
        "numerical_attribute_indecies = [2,3,4,5,6,7,8,9]\n",
        "greatest_range_norm_pair_data = fetchGreatestCovariancePair(range_norm_matrix, numerical_attribute_indecies)\n",
        "\n",
        "d = greatest_range_norm_pair_data\n",
        "print(\"The range-normalized numerical attributes with the greatest estimated covariance:\\nColumns: '{!s}' ({!s}) and '{!s}'({!s})\\nCovariance of: {:.2f}\".format(\n",
        "    d['x_i'],\n",
        "    DATA_COL_NAME_DICT[d['x_i']],\n",
        "    d['x_j'],\n",
        "    DATA_COL_NAME_DICT[d['x_j']],\n",
        "    d[\"covariance\"],))"
      ]
    },
    {
      "cell_type": "markdown",
      "metadata": {
        "id": "fH1cg4rCV18X"
      },
      "source": [
        "### Scatter Plot of Greatest Range Normalization Pair"
      ]
    },
    {
      "cell_type": "code",
      "execution_count": 58,
      "metadata": {
        "colab": {
          "base_uri": "https://localhost:8080/",
          "height": 312
        },
        "id": "cyDtGxqXByyw",
        "outputId": "cd58d830-6fbd-448f-bbf6-8abd3f6f95d1"
      },
      "outputs": [
        {
          "data": {
            "text/plain": [
              "Text(0.5, 1.0, 'Greatest Range Normalization Pair')"
            ]
          },
          "execution_count": 58,
          "metadata": {},
          "output_type": "execute_result"
        },
        {
          "data": {
            "image/png": "[encoded data removed]",
            "text/plain": [
              "<Figure size 432x288 with 1 Axes>"
            ]
          },
          "metadata": {
            "needs_background": "light"
          },
          "output_type": "display_data"
        }
      ],
      "source": [
        "# create scatter plot greatest range normalization pair\n",
        "data = range_norm_matrix\n",
        "plt.scatter(data[:,DATA_COL_NAMES.index(greatest_range_norm_pair_data['x_i'])], data[:,DATA_COL_NAMES.index(greatest_range_norm_pair_data['x_j'])])\n",
        "plt.xlabel(DATA_COL_NAME_DICT[greatest_range_norm_pair_data['x_i']])\n",
        "plt.ylabel(DATA_COL_NAME_DICT[greatest_range_norm_pair_data['x_j']])\n",
        "plt.title('Greatest Range Normalization Pair')"
      ]
    },
    {
      "cell_type": "markdown",
      "metadata": {
        "id": "_2nBbyL1igD8"
      },
      "source": [
        "## (3 points)"
      ]
    },
    {
      "cell_type": "markdown",
      "metadata": {
        "id": "h1INg8C8a5Es"
      },
      "source": [
        "Which Z-score-normalized numerical attributes have the greatest correlation? What is their correlation? Create a scatter plot of these Z-score-normalized attributes."
      ]
    },
    {
      "cell_type": "code",
      "execution_count": 59,
      "metadata": {
        "colab": {
          "base_uri": "https://localhost:8080/"
        },
        "id": "JK6jyaLXgEIY",
        "outputId": "53aa1b06-1134-4b61-a9f6-a0157fad6919"
      },
      "outputs": [
        {
          "name": "stdout",
          "output_type": "stream",
          "text": [
            "The Z-Score normalized numerical attributes with the greatest estimated correlation:\n",
            "Columns: 'PRP' (published relative performance) and 'ERP'(estimated relative performance from the original article)\n",
            "Correlation of: 0.97\n"
          ]
        }
      ],
      "source": [
        "def fetchGreatestCorrelationPair(m, okay_indices=None):\n",
        "    pair_data = fetchPairs(m, correlation, None, \"correlation\", okay_indices)\n",
        "    greatest_pair_data = pair_data[0]\n",
        "    return greatest_pair_data\n",
        "\n",
        "zscore_norm_matrix = zScoreNormalize(label_encoded_matrix)\n",
        "numerical_attribute_indecies = [2,3,4,5,6,7,8,9]\n",
        "greatest_zscore_norm_pair_data = fetchGreatestCorrelationPair(zscore_norm_matrix, numerical_attribute_indecies)\n",
        "\n",
        "d = greatest_zscore_norm_pair_data\n",
        "\n",
        "print(\"The Z-Score normalized numerical attributes with the greatest estimated correlation:\\nColumns: '{!s}' ({!s}) and '{!s}'({!s})\\nCorrelation of: {:.2f}\".format(\n",
        "    d['x_i'],\n",
        "    DATA_COL_NAME_DICT[d['x_i']],\n",
        "    d['x_j'],\n",
        "    DATA_COL_NAME_DICT[d['x_j']],\n",
        "    d[\"correlation\"],))"
      ]
    },
    {
      "cell_type": "markdown",
      "metadata": {
        "id": "A4RrITmbWBUb"
      },
      "source": [
        "### Scatter Plot of Greatest Correlation Z-Score Normalization Pair"
      ]
    },
    {
      "cell_type": "code",
      "execution_count": 60,
      "metadata": {
        "colab": {
          "base_uri": "https://localhost:8080/",
          "height": 327
        },
        "id": "q7AJVOWxCVbF",
        "outputId": "800b15fa-a6f0-4b98-e925-2db612e77d2d"
      },
      "outputs": [
        {
          "data": {
            "text/plain": [
              "Text(0.5, 1.0, 'Greatest Z-Score Normalized Correlation Pair')"
            ]
          },
          "execution_count": 60,
          "metadata": {},
          "output_type": "execute_result"
        },
        {
          "data": {
            "image/png": "[encoded data removed]",
            "text/plain": [
              "<Figure size 432x288 with 1 Axes>"
            ]
          },
          "metadata": {
            "needs_background": "light"
          },
          "output_type": "display_data"
        }
      ],
      "source": [
        "# create scatter plot greatest z-score normalization pair\n",
        "data = zscore_norm_matrix\n",
        "plt.scatter(data[:,DATA_COL_NAMES.index(greatest_zscore_norm_pair_data['x_i'])], data[:,DATA_COL_NAMES.index(greatest_zscore_norm_pair_data['x_j'])])\n",
        "plt.xlabel(DATA_COL_NAME_DICT[greatest_zscore_norm_pair_data['x_i']])\n",
        "plt.ylabel(DATA_COL_NAME_DICT[greatest_zscore_norm_pair_data['x_j']])\n",
        "plt.title('Greatest Z-Score Normalized Correlation Pair')"
      ]
    },
    {
      "cell_type": "markdown",
      "metadata": {
        "id": "LykVzIjUiivD"
      },
      "source": [
        "## (3 points)"
      ]
    },
    {
      "cell_type": "markdown",
      "metadata": {
        "id": "9BYNvKZla5Et"
      },
      "source": [
        "Which Z-score-normalized numerical attributes have the smallest correlation? What is their correlation? Create a scatter plot of these Z-score-normalized attributes."
      ]
    },
    {
      "cell_type": "code",
      "execution_count": 61,
      "metadata": {
        "colab": {
          "base_uri": "https://localhost:8080/"
        },
        "id": "OLdTvsSgCZLl",
        "outputId": "8a15c99c-bbff-4186-c49d-30b12620c35b"
      },
      "outputs": [
        {
          "name": "stdout",
          "output_type": "stream",
          "text": [
            "The Z-Score normalized numerical attributes with the smallest estimated correlation:\n",
            "Columns: 'MYCT' (machine cycle time in nanoseconds) and 'MMAX'(maximum main memory in kilobytes)\n",
            "Correlation of: -0.38\n"
          ]
        }
      ],
      "source": [
        "def fetchSmallestCorrelationPair(m, okay_indices=None):\n",
        "    pair_data = fetchPairs(m, correlation, None, \"correlation\", okay_indices, False)\n",
        "    smallest_pair_data = pair_data[0]\n",
        "    return smallest_pair_data\n",
        "\n",
        "zscore_norm_matrix = zScoreNormalize(label_encoded_matrix)\n",
        "numerical_attribute_indecies = [2,3,4,5,6,7,8,9]\n",
        "smallest_zscore_norm_pair_data = fetchSmallestCorrelationPair(zscore_norm_matrix, numerical_attribute_indecies)\n",
        "\n",
        "d = smallest_zscore_norm_pair_data\n",
        "\n",
        "print(\"The Z-Score normalized numerical attributes with the smallest estimated correlation:\\nColumns: '{!s}' ({!s}) and '{!s}'({!s})\\nCorrelation of: {:.2f}\".format(\n",
        "    d['x_i'],\n",
        "    DATA_COL_NAME_DICT[d['x_i']],\n",
        "    d['x_j'],\n",
        "    DATA_COL_NAME_DICT[d['x_j']],\n",
        "    d[\"correlation\"],))"
      ]
    },
    {
      "cell_type": "markdown",
      "metadata": {
        "id": "98lo8g-aWGeS"
      },
      "source": [
        "### Scatter Plot of Smallest Z-Score Normalization Correlation Pair"
      ]
    },
    {
      "cell_type": "code",
      "execution_count": 62,
      "metadata": {
        "colab": {
          "base_uri": "https://localhost:8080/",
          "height": 312
        },
        "id": "hilm-sxDWL01",
        "outputId": "d1c854fc-ddd7-4dd0-b024-0c30cae07c48"
      },
      "outputs": [
        {
          "data": {
            "text/plain": [
              "Text(0.5, 1.0, 'Smallest Z-Score Normalization Correlation Pair')"
            ]
          },
          "execution_count": 62,
          "metadata": {},
          "output_type": "execute_result"
        },
        {
          "data": {
            "image/png": "[encoded data removed]",
            "text/plain": [
              "<Figure size 432x288 with 1 Axes>"
            ]
          },
          "metadata": {
            "needs_background": "light"
          },
          "output_type": "display_data"
        }
      ],
      "source": [
        "# create scatter plot smallest z-score normalization pair\n",
        "data = zscore_norm_matrix\n",
        "plt.scatter(data[:,DATA_COL_NAMES.index(smallest_zscore_norm_pair_data['x_i'])], data[:,DATA_COL_NAMES.index(smallest_zscore_norm_pair_data['x_i'])])\n",
        "plt.xlabel(DATA_COL_NAME_DICT[smallest_zscore_norm_pair_data['x_i']])\n",
        "plt.ylabel(DATA_COL_NAME_DICT[smallest_zscore_norm_pair_data['x_i']])\n",
        "plt.title('Smallest Z-Score Normalization Correlation Pair')"
      ]
    },
    {
      "cell_type": "markdown",
      "metadata": {
        "id": "wh1K_NTximPB"
      },
      "source": [
        "## (3 points)"
      ]
    },
    {
      "cell_type": "markdown",
      "metadata": {
        "id": "kq1liYFba5Eu"
      },
      "source": [
        "How many pairs of features have correlation greater than or equal to 0.5?"
      ]
    },
    {
      "cell_type": "code",
      "execution_count": 63,
      "metadata": {
        "colab": {
          "base_uri": "https://localhost:8080/"
        },
        "id": "-cInkx0oiJRZ",
        "outputId": "ac4ef869-d2ce-45ad-d735-34f53d2411fd"
      },
      "outputs": [
        {
          "name": "stdout",
          "output_type": "stream",
          "text": [
            "20 pairs of features have a correlation greater then or equal to 0.5\n"
          ]
        }
      ],
      "source": [
        "def thresholdCheck(val):\n",
        "    if val >= 0.5: return True\n",
        "    return False\n",
        "d = fetchPairs(label_encoded_matrix, correlation, thresholdCheck, \"correlation\")\n",
        "\n",
        "print(\"{!s} pairs of features have a correlation greater then or equal to 0.5\".format(len(d)))"
      ]
    },
    {
      "cell_type": "markdown",
      "metadata": {
        "id": "49MHuuLVZKAD"
      },
      "source": [
        "### Correlation pairs greater then or equal to 0.5"
      ]
    },
    {
      "cell_type": "code",
      "execution_count": 64,
      "metadata": {
        "colab": {
          "base_uri": "https://localhost:8080/"
        },
        "id": "tml81nPlZPP9",
        "outputId": "701aa59e-e9d8-45d4-881e-f92d3e5c98d3"
      },
      "outputs": [
        {
          "data": {
            "text/plain": [
              "[{'x_i': 'Vendor Name', 'x_j': 'Model Name', 'correlation': 0.983740021435977},\n",
              " {'x_i': 'PRP', 'x_j': 'ERP', 'correlation': 0.9664716584437554},\n",
              " {'x_i': 'MMAX', 'x_j': 'ERP', 'correlation': 0.9012023724206504},\n",
              " {'x_i': 'MMAX', 'x_j': 'PRP', 'correlation': 0.8630041243651347},\n",
              " {'x_i': 'MMIN', 'x_j': 'ERP', 'correlation': 0.8192915433705625},\n",
              " {'x_i': 'MMIN', 'x_j': 'PRP', 'correlation': 0.7949313405266917},\n",
              " {'x_i': 'MMIN', 'x_j': 'MMAX', 'correlation': 0.7581573478037238},\n",
              " {'x_i': 'CACH', 'x_j': 'PRP', 'correlation': 0.6626414266783198},\n",
              " {'x_i': 'CACH', 'x_j': 'ERP', 'correlation': 0.6486202553696466},\n",
              " {'x_i': 'CHMIN', 'x_j': 'ERP', 'correlation': 0.6105802214479128},\n",
              " {'x_i': 'CHMIN', 'x_j': 'PRP', 'correlation': 0.6089032834114063},\n",
              " {'x_i': 'CHMAX', 'x_j': 'PRP', 'correlation': 0.6052092928126743},\n",
              " {'x_i': 'CHMAX', 'x_j': 'ERP', 'correlation': 0.5921555647418641},\n",
              " {'x_i': 'CACH', 'x_j': 'CHMIN', 'correlation': 0.5822454590800029},\n",
              " {'x_i': 'MMAX', 'x_j': 'CHMIN', 'correlation': 0.5605134214806349},\n",
              " {'x_i': 'CHMIN', 'x_j': 'CHMAX', 'correlation': 0.5482812070286764},\n",
              " {'x_i': 'MMAX', 'x_j': 'CACH', 'correlation': 0.5379898185263059},\n",
              " {'x_i': 'MMIN', 'x_j': 'CACH', 'correlation': 0.5347290904835282},\n",
              " {'x_i': 'MMAX', 'x_j': 'CHMAX', 'correlation': 0.5272461816383361},\n",
              " {'x_i': 'MMIN', 'x_j': 'CHMIN', 'correlation': 0.5171892214181076}]"
            ]
          },
          "execution_count": 64,
          "metadata": {},
          "output_type": "execute_result"
        }
      ],
      "source": [
        "def thresholdCheck(val):\n",
        "    if val >= 0.5: return True\n",
        "    return False\n",
        "fetchPairs(label_encoded_matrix, correlation, thresholdCheck, \"correlation\")"
      ]
    },
    {
      "cell_type": "markdown",
      "metadata": {
        "id": "kljqAOqVipss"
      },
      "source": [
        "## (3 points)"
      ]
    },
    {
      "cell_type": "markdown",
      "metadata": {
        "id": "GASPq8Axa5Eu"
      },
      "source": [
        "How many pairs of features have negative estimated covariance?"
      ]
    },
    {
      "cell_type": "code",
      "execution_count": 65,
      "metadata": {
        "colab": {
          "base_uri": "https://localhost:8080/"
        },
        "id": "-9dLogmZCqde",
        "outputId": "08aeffdb-2e09-4f2b-9507-4cb54fccf5cf"
      },
      "outputs": [
        {
          "name": "stdout",
          "output_type": "stream",
          "text": [
            "15 pairs of features have a covariance less than 0\n"
          ]
        }
      ],
      "source": [
        "# calculate negative estimated covariance\n",
        "def thresholdCheck(val):\n",
        "    if val < 0: return True\n",
        "    return False\n",
        "d = fetchPairs(label_encoded_matrix, covariance, thresholdCheck, \"covariance\")\n",
        "print(\"{!s} pairs of features have a covariance less than 0\".format(len(d)))"
      ]
    },
    {
      "cell_type": "markdown",
      "metadata": {
        "id": "UzDz5w-HjADu"
      },
      "source": [
        "### Pairs of features with negative estimated covariance"
      ]
    },
    {
      "cell_type": "code",
      "execution_count": 66,
      "metadata": {
        "colab": {
          "base_uri": "https://localhost:8080/"
        },
        "id": "UbxiRr4Zi8dV",
        "outputId": "46908a6f-a06a-4745-b71a-822358ae2969"
      },
      "outputs": [
        {
          "data": {
            "text/plain": [
              "[{'x_i': 'Vendor Name', 'x_j': 'CHMAX', 'covariance': -1.8992914979756885},\n",
              " {'x_i': 'Model Name', 'x_j': 'CHMAX', 'covariance': -7.19230769230772},\n",
              " {'x_i': 'Vendor Name', 'x_j': 'ERP', 'covariance': -23.23734817813752},\n",
              " {'x_i': 'Vendor Name', 'x_j': 'PRP', 'covariance': -28.712297570850147},\n",
              " {'x_i': 'Vendor Name', 'x_j': 'MYCT', 'covariance': -143.7834008097165},\n",
              " {'x_i': 'MYCT', 'x_j': 'CHMIN', 'covariance': -534.1401591829224},\n",
              " {'x_i': 'Model Name', 'x_j': 'MYCT', 'covariance': -1632.3028846153845},\n",
              " {'x_i': 'MYCT', 'x_j': 'CHMAX', 'covariance': -1694.933106367316},\n",
              " {'x_i': 'Vendor Name', 'x_j': 'MMIN', 'covariance': -2480.4048582996006},\n",
              " {'x_i': 'MYCT', 'x_j': 'CACH', 'covariance': -3394.2999401913867},\n",
              " {'x_i': 'Model Name', 'x_j': 'MMIN', 'covariance': -5294.278846153839},\n",
              " {'x_i': 'MYCT', 'x_j': 'ERP', 'covariance': -11615.864349466328},\n",
              " {'x_i': 'MYCT', 'x_j': 'PRP', 'covariance': -12854.65377714392},\n",
              " {'x_i': 'MYCT', 'x_j': 'MMIN', 'covariance': -338828.4264814134},\n",
              " {'x_i': 'MYCT', 'x_j': 'MMAX', 'covariance': -1155363.2035333083}]"
            ]
          },
          "execution_count": 66,
          "metadata": {},
          "output_type": "execute_result"
        }
      ],
      "source": [
        "def thresholdCheck(val):\n",
        "    if val < 0: return True\n",
        "    return False\n",
        "fetchPairs(label_encoded_matrix, covariance, thresholdCheck, \"covariance\")"
      ]
    },
    {
      "cell_type": "markdown",
      "metadata": {
        "id": "HwV7AMXkisMi"
      },
      "source": [
        "## (2 points)"
      ]
    },
    {
      "cell_type": "markdown",
      "metadata": {
        "id": "FZWlbMLYa5Ev"
      },
      "source": [
        "What is the total variance of the data?"
      ]
    },
    {
      "cell_type": "code",
      "execution_count": 67,
      "metadata": {
        "colab": {
          "base_uri": "https://localhost:8080/"
        },
        "id": "Yf9QQ3ALJXxH",
        "outputId": "2d63bf43-6a6a-4d57-9f14-a85b46e2dd5d"
      },
      "outputs": [
        {
          "data": {
            "text/plain": [
              "152680597.473132"
            ]
          },
          "execution_count": 67,
          "metadata": {},
          "output_type": "execute_result"
        }
      ],
      "source": [
        "total_variance = 0\n",
        "for i in range(label_encoded_matrix.shape[1]):\n",
        "    total_variance += covariance(label_encoded_matrix[:,i])\n",
        "total_variance"
      ]
    },
    {
      "cell_type": "markdown",
      "metadata": {
        "id": "tKhbBKQEivqf"
      },
      "source": [
        "## (2 points)"
      ]
    },
    {
      "cell_type": "markdown",
      "metadata": {
        "id": "cw5HHo2Qa5Ev"
      },
      "source": [
        "What is the total variance of the data, restricted to the five features that have the greatest estimated variance?"
      ]
    },
    {
      "cell_type": "code",
      "execution_count": 68,
      "metadata": {
        "colab": {
          "base_uri": "https://localhost:8080/"
        },
        "id": "HHKAmaLZJ16j",
        "outputId": "5a55cb1a-23f8-437b-e650-4578f2106114"
      },
      "outputs": [
        {
          "data": {
            "text/plain": [
              "152674510.55207935"
            ]
          },
          "execution_count": 68,
          "metadata": {},
          "output_type": "execute_result"
        }
      ],
      "source": [
        "# list used to store the variance for \n",
        "restricted_variance_list = list()\n",
        "\n",
        "for i in range(label_encoded_matrix.shape[1]):\n",
        "    restricted_variance_list.append(covariance(label_encoded_matrix[:,i]))\n",
        "\n",
        "restricted_variance_list.sort(reverse=True)\n",
        "\n",
        "restricted_variance = 0\n",
        "\n",
        "for i in restricted_variance_list[:5]:\n",
        "    restricted_variance += i\n",
        "\n",
        "restricted_variance"
      ]
    }
  ],
  "metadata": {
    "colab": {
      "collapsed_sections": [
        "oRTudRs1iWJn"
      ],
      "name": "Project-01.ipynb",
      "provenance": [],
      "toc_visible": true
    },
    "kernelspec": {
      "display_name": "Python 3",
      "name": "python3"
    },
    "language_info": {
      "codemirror_mode": {
        "name": "ipython",
        "version": 3
      },
      "file_extension": ".py",
      "mimetype": "text/x-python",
      "name": "python",
      "nbconvert_exporter": "python",
      "pygments_lexer": "ipython3",
      "version": "3.8.12"
    }
  },
  "nbformat": 4,
  "nbformat_minor": 0
}
